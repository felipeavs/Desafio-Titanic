{
 "cells": [
  {
   "cell_type": "code",
   "execution_count": null,
   "metadata": {
    "colab": {
     "base_uri": "https://localhost:8080/"
    },
    "id": "Ybyko0H2HDd-",
    "outputId": "daa18883-a47a-4172-e4a4-8f1d104e22f4"
   },
   "outputs": [
    {
     "name": "stdout",
     "output_type": "stream",
     "text": [
      "Cloning into 'titanic'...\n",
      "remote: Enumerating objects: 8, done.\u001b[K\n",
      "remote: Counting objects: 100% (8/8), done.\u001b[K\n",
      "remote: Compressing objects: 100% (7/7), done.\u001b[K\n",
      "remote: Total 8 (delta 0), reused 5 (delta 0), pack-reused 0\u001b[K\n",
      "Unpacking objects: 100% (8/8), done.\n"
     ]
    }
   ],
   "source": [
    "# Clone data files from git\n",
    "!git clone https://github.com/felipeavs/titanic.git"
   ]
  },
  {
   "cell_type": "markdown",
   "metadata": {
    "id": "a7f-C5zwOinE"
   },
   "source": [
    "# **Titanic**\n",
    "\n",
    "O titanic foi um dos naufrágios mais famosos que aconteceu nos ultimos tempos. Afundou após colidir com um iceberg e como consequência, resultou na morte de 1502 dos 2224 passageiros e tripulantes.\n",
    "\n",
    "Temos como objetivo para esse projeto realizar estudos sobre essa base de dados, como:\n",
    "*   Análise Descritiva\n",
    "*   Limpeza e transformação\n",
    "\n",
    "\n",
    "\n",
    "https://www.kaggle.com/c/titanic"
   ]
  },
  {
   "cell_type": "code",
   "execution_count": null,
   "metadata": {
    "id": "CyNKMI5VQm2S"
   },
   "outputs": [],
   "source": [
    "# Imports\n",
    "# DataFrame e Series\n",
    "import pandas as pd\n",
    "import numpy as np\n",
    "\n",
    "#Vizualização\n",
    "import matplotlib.pyplot as plt"
   ]
  },
  {
   "cell_type": "code",
   "execution_count": null,
   "metadata": {
    "id": "JQNJJgYrOLks"
   },
   "outputs": [],
   "source": [
    "data = pd.read_csv('titanic/data/train.csv')"
   ]
  },
  {
   "cell_type": "code",
   "execution_count": null,
   "metadata": {
    "colab": {
     "base_uri": "https://localhost:8080/",
     "height": 198
    },
    "id": "jF0KkEebRdQy",
    "outputId": "4ce33943-8d3c-49a1-b237-f30a23136611"
   },
   "outputs": [
    {
     "data": {
      "text/html": [
       "<div>\n",
       "<style scoped>\n",
       "    .dataframe tbody tr th:only-of-type {\n",
       "        vertical-align: middle;\n",
       "    }\n",
       "\n",
       "    .dataframe tbody tr th {\n",
       "        vertical-align: top;\n",
       "    }\n",
       "\n",
       "    .dataframe thead th {\n",
       "        text-align: right;\n",
       "    }\n",
       "</style>\n",
       "<table border=\"1\" class=\"dataframe\">\n",
       "  <thead>\n",
       "    <tr style=\"text-align: right;\">\n",
       "      <th></th>\n",
       "      <th>PassengerId</th>\n",
       "      <th>Survived</th>\n",
       "      <th>Pclass</th>\n",
       "      <th>Name</th>\n",
       "      <th>Sex</th>\n",
       "      <th>Age</th>\n",
       "      <th>SibSp</th>\n",
       "      <th>Parch</th>\n",
       "      <th>Ticket</th>\n",
       "      <th>Fare</th>\n",
       "      <th>Cabin</th>\n",
       "      <th>Embarked</th>\n",
       "    </tr>\n",
       "  </thead>\n",
       "  <tbody>\n",
       "    <tr>\n",
       "      <th>0</th>\n",
       "      <td>1</td>\n",
       "      <td>0</td>\n",
       "      <td>3</td>\n",
       "      <td>Braund, Mr. Owen Harris</td>\n",
       "      <td>male</td>\n",
       "      <td>22.0</td>\n",
       "      <td>1</td>\n",
       "      <td>0</td>\n",
       "      <td>A/5 21171</td>\n",
       "      <td>7.2500</td>\n",
       "      <td>NaN</td>\n",
       "      <td>S</td>\n",
       "    </tr>\n",
       "    <tr>\n",
       "      <th>1</th>\n",
       "      <td>2</td>\n",
       "      <td>1</td>\n",
       "      <td>1</td>\n",
       "      <td>Cumings, Mrs. John Bradley (Florence Briggs Th...</td>\n",
       "      <td>female</td>\n",
       "      <td>38.0</td>\n",
       "      <td>1</td>\n",
       "      <td>0</td>\n",
       "      <td>PC 17599</td>\n",
       "      <td>71.2833</td>\n",
       "      <td>C85</td>\n",
       "      <td>C</td>\n",
       "    </tr>\n",
       "    <tr>\n",
       "      <th>2</th>\n",
       "      <td>3</td>\n",
       "      <td>1</td>\n",
       "      <td>3</td>\n",
       "      <td>Heikkinen, Miss. Laina</td>\n",
       "      <td>female</td>\n",
       "      <td>26.0</td>\n",
       "      <td>0</td>\n",
       "      <td>0</td>\n",
       "      <td>STON/O2. 3101282</td>\n",
       "      <td>7.9250</td>\n",
       "      <td>NaN</td>\n",
       "      <td>S</td>\n",
       "    </tr>\n",
       "    <tr>\n",
       "      <th>3</th>\n",
       "      <td>4</td>\n",
       "      <td>1</td>\n",
       "      <td>1</td>\n",
       "      <td>Futrelle, Mrs. Jacques Heath (Lily May Peel)</td>\n",
       "      <td>female</td>\n",
       "      <td>35.0</td>\n",
       "      <td>1</td>\n",
       "      <td>0</td>\n",
       "      <td>113803</td>\n",
       "      <td>53.1000</td>\n",
       "      <td>C123</td>\n",
       "      <td>S</td>\n",
       "    </tr>\n",
       "    <tr>\n",
       "      <th>4</th>\n",
       "      <td>5</td>\n",
       "      <td>0</td>\n",
       "      <td>3</td>\n",
       "      <td>Allen, Mr. William Henry</td>\n",
       "      <td>male</td>\n",
       "      <td>35.0</td>\n",
       "      <td>0</td>\n",
       "      <td>0</td>\n",
       "      <td>373450</td>\n",
       "      <td>8.0500</td>\n",
       "      <td>NaN</td>\n",
       "      <td>S</td>\n",
       "    </tr>\n",
       "  </tbody>\n",
       "</table>\n",
       "</div>"
      ],
      "text/plain": [
       "   PassengerId  Survived  Pclass  ...     Fare Cabin  Embarked\n",
       "0            1         0       3  ...   7.2500   NaN         S\n",
       "1            2         1       1  ...  71.2833   C85         C\n",
       "2            3         1       3  ...   7.9250   NaN         S\n",
       "3            4         1       1  ...  53.1000  C123         S\n",
       "4            5         0       3  ...   8.0500   NaN         S\n",
       "\n",
       "[5 rows x 12 columns]"
      ]
     },
     "execution_count": 4,
     "metadata": {
      "tags": []
     },
     "output_type": "execute_result"
    }
   ],
   "source": [
    "data.head()"
   ]
  },
  {
   "cell_type": "markdown",
   "metadata": {
    "id": "bn3_IpeYxd67"
   },
   "source": [
    "A base de dados é composta pelos seguintes atributos:\n",
    "*   **PassengerId**: Número de identificação do passageiro\n",
    "*   **Survived**: Valor numérico 0 e 1 que indica se o passageiro não sobrevivel ou sobrevivel, respectivamente.\n",
    "*   **Pclass**: Valor numérico 1, 2 e 3 referente a primeira, segunda e terceira classe em que o passageiro viajou, respectivamente.\n",
    "*   **Name**: Nome do passageiro.\n",
    "*   **Sex**: Sexo do passageiro.\n",
    "*   **Age**: Idade do passageiro.\n",
    "*   **SibSp**: Quantidade de irmãos ou cônjuges a bordo.\n",
    "*   **Parch**: Quatidade de pais ou filhos abordo.\n",
    "*   **Ticket**: Número da passagem.\n",
    "*   **Fare**: Preço da passagem.\n",
    "*   **Cabin**: Número da cabine do passageiro\n",
    "*   **Embarked**: Letras C, Q e S que indica Cherbourg, Queenstown e Southampton respectivamente o nome dos portos que cada passageiro embarcou. \n"
   ]
  },
  {
   "cell_type": "code",
   "execution_count": null,
   "metadata": {
    "colab": {
     "base_uri": "https://localhost:8080/"
    },
    "id": "XuCwapW8WEnu",
    "outputId": "43b42127-0ed1-4acb-eaaa-f961b954adc7"
   },
   "outputs": [
    {
     "name": "stdout",
     "output_type": "stream",
     "text": [
      "<class 'pandas.core.frame.DataFrame'>\n",
      "RangeIndex: 891 entries, 0 to 890\n",
      "Data columns (total 12 columns):\n",
      " #   Column       Non-Null Count  Dtype  \n",
      "---  ------       --------------  -----  \n",
      " 0   PassengerId  891 non-null    int64  \n",
      " 1   Survived     891 non-null    int64  \n",
      " 2   Pclass       891 non-null    int64  \n",
      " 3   Name         891 non-null    object \n",
      " 4   Sex          891 non-null    object \n",
      " 5   Age          714 non-null    float64\n",
      " 6   SibSp        891 non-null    int64  \n",
      " 7   Parch        891 non-null    int64  \n",
      " 8   Ticket       891 non-null    object \n",
      " 9   Fare         891 non-null    float64\n",
      " 10  Cabin        204 non-null    object \n",
      " 11  Embarked     889 non-null    object \n",
      "dtypes: float64(2), int64(5), object(5)\n",
      "memory usage: 83.7+ KB\n"
     ]
    }
   ],
   "source": [
    "data.info()"
   ]
  },
  {
   "cell_type": "markdown",
   "metadata": {
    "id": "tE-m2Pwi0X37"
   },
   "source": [
    "**Uma primeira analise descitiva geral da base de dados**"
   ]
  },
  {
   "cell_type": "code",
   "execution_count": null,
   "metadata": {
    "colab": {
     "base_uri": "https://localhost:8080/"
    },
    "id": "e_XQzLXh0iJS",
    "outputId": "517818cb-2733-4fff-fa65-a85b176ad78a"
   },
   "outputs": [
    {
     "name": "stdout",
     "output_type": "stream",
     "text": [
      "A base de dados possui:\n",
      "891 passageiros identificados\n",
      "12 dados relacionados a cada passageiro\n"
     ]
    }
   ],
   "source": [
    "PASSANGERS_COUNT = data.shape[0]\n",
    "DATA_PASSAGERS_COUNT = data.shape[1]\n",
    "\n",
    "print(f'A base de dados possui:') \n",
    "print(f'{PASSANGERS_COUNT} passageiros identificados')\n",
    "print(f'{DATA_PASSAGERS_COUNT} dados relacionados a cada passageiro')\n"
   ]
  },
  {
   "cell_type": "code",
   "execution_count": null,
   "metadata": {
    "colab": {
     "base_uri": "https://localhost:8080/",
     "height": 295
    },
    "id": "xIarBDAfwzKj",
    "outputId": "4dff1e7b-55dc-4201-af79-9989256c2622"
   },
   "outputs": [
    {
     "data": {
      "text/html": [
       "<div>\n",
       "<style scoped>\n",
       "    .dataframe tbody tr th:only-of-type {\n",
       "        vertical-align: middle;\n",
       "    }\n",
       "\n",
       "    .dataframe tbody tr th {\n",
       "        vertical-align: top;\n",
       "    }\n",
       "\n",
       "    .dataframe thead th {\n",
       "        text-align: right;\n",
       "    }\n",
       "</style>\n",
       "<table border=\"1\" class=\"dataframe\">\n",
       "  <thead>\n",
       "    <tr style=\"text-align: right;\">\n",
       "      <th></th>\n",
       "      <th>PassengerId</th>\n",
       "      <th>Survived</th>\n",
       "      <th>Pclass</th>\n",
       "      <th>Age</th>\n",
       "      <th>SibSp</th>\n",
       "      <th>Parch</th>\n",
       "      <th>Fare</th>\n",
       "    </tr>\n",
       "  </thead>\n",
       "  <tbody>\n",
       "    <tr>\n",
       "      <th>count</th>\n",
       "      <td>891.000</td>\n",
       "      <td>891.000</td>\n",
       "      <td>891.000</td>\n",
       "      <td>714.000</td>\n",
       "      <td>891.000</td>\n",
       "      <td>891.000</td>\n",
       "      <td>891.000</td>\n",
       "    </tr>\n",
       "    <tr>\n",
       "      <th>mean</th>\n",
       "      <td>446.000</td>\n",
       "      <td>0.384</td>\n",
       "      <td>2.309</td>\n",
       "      <td>29.699</td>\n",
       "      <td>0.523</td>\n",
       "      <td>0.382</td>\n",
       "      <td>32.204</td>\n",
       "    </tr>\n",
       "    <tr>\n",
       "      <th>std</th>\n",
       "      <td>257.354</td>\n",
       "      <td>0.487</td>\n",
       "      <td>0.836</td>\n",
       "      <td>14.526</td>\n",
       "      <td>1.103</td>\n",
       "      <td>0.806</td>\n",
       "      <td>49.693</td>\n",
       "    </tr>\n",
       "    <tr>\n",
       "      <th>min</th>\n",
       "      <td>1.000</td>\n",
       "      <td>0.000</td>\n",
       "      <td>1.000</td>\n",
       "      <td>0.420</td>\n",
       "      <td>0.000</td>\n",
       "      <td>0.000</td>\n",
       "      <td>0.000</td>\n",
       "    </tr>\n",
       "    <tr>\n",
       "      <th>25%</th>\n",
       "      <td>223.500</td>\n",
       "      <td>0.000</td>\n",
       "      <td>2.000</td>\n",
       "      <td>20.125</td>\n",
       "      <td>0.000</td>\n",
       "      <td>0.000</td>\n",
       "      <td>7.910</td>\n",
       "    </tr>\n",
       "    <tr>\n",
       "      <th>50%</th>\n",
       "      <td>446.000</td>\n",
       "      <td>0.000</td>\n",
       "      <td>3.000</td>\n",
       "      <td>28.000</td>\n",
       "      <td>0.000</td>\n",
       "      <td>0.000</td>\n",
       "      <td>14.454</td>\n",
       "    </tr>\n",
       "    <tr>\n",
       "      <th>75%</th>\n",
       "      <td>668.500</td>\n",
       "      <td>1.000</td>\n",
       "      <td>3.000</td>\n",
       "      <td>38.000</td>\n",
       "      <td>1.000</td>\n",
       "      <td>0.000</td>\n",
       "      <td>31.000</td>\n",
       "    </tr>\n",
       "    <tr>\n",
       "      <th>max</th>\n",
       "      <td>891.000</td>\n",
       "      <td>1.000</td>\n",
       "      <td>3.000</td>\n",
       "      <td>80.000</td>\n",
       "      <td>8.000</td>\n",
       "      <td>6.000</td>\n",
       "      <td>512.329</td>\n",
       "    </tr>\n",
       "  </tbody>\n",
       "</table>\n",
       "</div>"
      ],
      "text/plain": [
       "       PassengerId  Survived   Pclass      Age    SibSp    Parch     Fare\n",
       "count      891.000   891.000  891.000  714.000  891.000  891.000  891.000\n",
       "mean       446.000     0.384    2.309   29.699    0.523    0.382   32.204\n",
       "std        257.354     0.487    0.836   14.526    1.103    0.806   49.693\n",
       "min          1.000     0.000    1.000    0.420    0.000    0.000    0.000\n",
       "25%        223.500     0.000    2.000   20.125    0.000    0.000    7.910\n",
       "50%        446.000     0.000    3.000   28.000    0.000    0.000   14.454\n",
       "75%        668.500     1.000    3.000   38.000    1.000    0.000   31.000\n",
       "max        891.000     1.000    3.000   80.000    8.000    6.000  512.329"
      ]
     },
     "execution_count": 7,
     "metadata": {
      "tags": []
     },
     "output_type": "execute_result"
    }
   ],
   "source": [
    "data.describe().round(3)"
   ]
  },
  {
   "cell_type": "markdown",
   "metadata": {
    "id": "dWQ6PcYETnsG"
   },
   "source": [
    "## Data Cleaning"
   ]
  },
  {
   "cell_type": "code",
   "execution_count": null,
   "metadata": {
    "colab": {
     "base_uri": "https://localhost:8080/"
    },
    "id": "fUBk8GJpxUWG",
    "outputId": "fd08a0dd-cb42-467e-996e-b7f71b670bc2"
   },
   "outputs": [
    {
     "data": {
      "text/plain": [
       "PassengerId      0\n",
       "Survived         0\n",
       "Pclass           0\n",
       "Name             0\n",
       "Sex              0\n",
       "Age            177\n",
       "SibSp            0\n",
       "Parch            0\n",
       "Ticket           0\n",
       "Fare             0\n",
       "Cabin          687\n",
       "Embarked         2\n",
       "dtype: int64"
      ]
     },
     "execution_count": 8,
     "metadata": {
      "tags": []
     },
     "output_type": "execute_result"
    }
   ],
   "source": [
    "# Verificando quantos valores nulos existem em cada coluna\n",
    "data.isna().sum()"
   ]
  },
  {
   "cell_type": "markdown",
   "metadata": {
    "id": "T7xuZ9iDyPOV"
   },
   "source": [
    "Como apresentado acima, a coluna \"Cabin\" possui a maioria dos dados nulos, logo a mesma não traz informação relevante para a análise, visto que preenchê-la não seria viável. \n",
    "\n",
    "Além disso, as colunas \"Name\" e \"Ticket\" também serão desconsideradas visto que são irrelevantes para a análise."
   ]
  },
  {
   "cell_type": "code",
   "execution_count": null,
   "metadata": {
    "colab": {
     "base_uri": "https://localhost:8080/"
    },
    "id": "Rhp0uUIWyaM7",
    "outputId": "852eebf1-5a57-4040-8b0d-3a7777f2ccf7"
   },
   "outputs": [
    {
     "data": {
      "text/html": [
       "<div>\n",
       "<style scoped>\n",
       "    .dataframe tbody tr th:only-of-type {\n",
       "        vertical-align: middle;\n",
       "    }\n",
       "\n",
       "    .dataframe tbody tr th {\n",
       "        vertical-align: top;\n",
       "    }\n",
       "\n",
       "    .dataframe thead th {\n",
       "        text-align: right;\n",
       "    }\n",
       "</style>\n",
       "<table border=\"1\" class=\"dataframe\">\n",
       "  <thead>\n",
       "    <tr style=\"text-align: right;\">\n",
       "      <th></th>\n",
       "      <th>PassengerId</th>\n",
       "      <th>Survived</th>\n",
       "      <th>Pclass</th>\n",
       "      <th>Sex</th>\n",
       "      <th>Age</th>\n",
       "      <th>SibSp</th>\n",
       "      <th>Parch</th>\n",
       "      <th>Fare</th>\n",
       "      <th>Embarked</th>\n",
       "    </tr>\n",
       "  </thead>\n",
       "  <tbody>\n",
       "    <tr>\n",
       "      <th>0</th>\n",
       "      <td>1</td>\n",
       "      <td>0</td>\n",
       "      <td>3</td>\n",
       "      <td>male</td>\n",
       "      <td>22.0</td>\n",
       "      <td>1</td>\n",
       "      <td>0</td>\n",
       "      <td>7.2500</td>\n",
       "      <td>S</td>\n",
       "    </tr>\n",
       "    <tr>\n",
       "      <th>1</th>\n",
       "      <td>2</td>\n",
       "      <td>1</td>\n",
       "      <td>1</td>\n",
       "      <td>female</td>\n",
       "      <td>38.0</td>\n",
       "      <td>1</td>\n",
       "      <td>0</td>\n",
       "      <td>71.2833</td>\n",
       "      <td>C</td>\n",
       "    </tr>\n",
       "    <tr>\n",
       "      <th>2</th>\n",
       "      <td>3</td>\n",
       "      <td>1</td>\n",
       "      <td>3</td>\n",
       "      <td>female</td>\n",
       "      <td>26.0</td>\n",
       "      <td>0</td>\n",
       "      <td>0</td>\n",
       "      <td>7.9250</td>\n",
       "      <td>S</td>\n",
       "    </tr>\n",
       "    <tr>\n",
       "      <th>3</th>\n",
       "      <td>4</td>\n",
       "      <td>1</td>\n",
       "      <td>1</td>\n",
       "      <td>female</td>\n",
       "      <td>35.0</td>\n",
       "      <td>1</td>\n",
       "      <td>0</td>\n",
       "      <td>53.1000</td>\n",
       "      <td>S</td>\n",
       "    </tr>\n",
       "    <tr>\n",
       "      <th>4</th>\n",
       "      <td>5</td>\n",
       "      <td>0</td>\n",
       "      <td>3</td>\n",
       "      <td>male</td>\n",
       "      <td>35.0</td>\n",
       "      <td>0</td>\n",
       "      <td>0</td>\n",
       "      <td>8.0500</td>\n",
       "      <td>S</td>\n",
       "    </tr>\n",
       "  </tbody>\n",
       "</table>\n",
       "</div>"
      ],
      "text/plain": [
       "   PassengerId  Survived  Pclass     Sex   Age  SibSp  Parch     Fare Embarked\n",
       "0            1         0       3    male  22.0      1      0   7.2500        S\n",
       "1            2         1       1  female  38.0      1      0  71.2833        C\n",
       "2            3         1       3  female  26.0      0      0   7.9250        S\n",
       "3            4         1       1  female  35.0      1      0  53.1000        S\n",
       "4            5         0       3    male  35.0      0      0   8.0500        S"
      ]
     },
     "execution_count": 9,
     "metadata": {
      "tags": []
     },
     "output_type": "execute_result"
    }
   ],
   "source": [
    "cleaned_data = data.drop(columns=['Name','Ticket', 'Cabin'])\n",
    "cleaned_data.head()"
   ]
  },
  {
   "cell_type": "markdown",
   "metadata": {
    "id": "nsCGe8aE2QM6"
   },
   "source": [
    "A coluna \"Age\" apresentou 177 dados nulos e, por esse motivo, vamos tratar tais dados abaixo, substituindo os valores nulos pela idade média."
   ]
  },
  {
   "cell_type": "code",
   "execution_count": null,
   "metadata": {
    "colab": {
     "base_uri": "https://localhost:8080/"
    },
    "id": "bnPA0VJ72HTI",
    "outputId": "58bc41c7-efd4-47bd-a3a3-8cc446502595"
   },
   "outputs": [
    {
     "data": {
      "text/plain": [
       "PassengerId    0\n",
       "Survived       0\n",
       "Pclass         0\n",
       "Sex            0\n",
       "Age            0\n",
       "SibSp          0\n",
       "Parch          0\n",
       "Fare           0\n",
       "Embarked       2\n",
       "dtype: int64"
      ]
     },
     "execution_count": 10,
     "metadata": {
      "tags": []
     },
     "output_type": "execute_result"
    }
   ],
   "source": [
    "# Tratando valores nulos na coluna \"Age\"\n",
    "cleaned_data['Age'].fillna(cleaned_data.Age.mean(), inplace = True)\n",
    "cleaned_data.isna().sum()"
   ]
  },
  {
   "cell_type": "markdown",
   "metadata": {
    "id": "I3hlVz5Jyx2B"
   },
   "source": [
    "Visto que trabalhar com números é mais fácil do que com texto, transformamos as colunas \"Sex\" e \"Embarked\", gerando uma coluna binária para cada um dos possiveis valores que tais colunas possuem, utilizando o `get_dummies`.\n",
    "\n",
    "Além disso, agrupamos os passageiros com base na sua idade, também com a motivação de facilitar a análise dos dados. Tais grupos são: \n",
    "\n",
    "* **Criança**: 0 - 16\n",
    "* **Jovem adulto**: 17 - 30\n",
    "* **Meia-idade**: 31-45\n",
    "* **Idoso**: 47 - 80\n",
    "\n",
    "Sendo 80 a idade máxima, como mostramos abaixo.\n",
    "\n",
    "\n",
    "\n"
   ]
  },
  {
   "cell_type": "code",
   "execution_count": null,
   "metadata": {
    "colab": {
     "base_uri": "https://localhost:8080/"
    },
    "id": "721Ggmw5iGeu",
    "outputId": "e70b16c7-1f06-4feb-f2c4-697d69bf6380"
   },
   "outputs": [
    {
     "name": "stdout",
     "output_type": "stream",
     "text": [
      "Idade máxima: 80.0\n",
      "Idade minima: 0.42\n"
     ]
    }
   ],
   "source": [
    "print(f'Idade máxima: {cleaned_data.Age.max()}')\n",
    "print(f'Idade minima: {cleaned_data.Age.min()}')"
   ]
  },
  {
   "cell_type": "code",
   "execution_count": null,
   "metadata": {
    "id": "Celt7IuOhvoF"
   },
   "outputs": [],
   "source": [
    "def get_age_group(age):\n",
    "  if age <= 16:\n",
    "    return 'child'\n",
    "  if age <= 30:\n",
    "    return 'young_adult'\n",
    "  if age <= 45:\n",
    "    return 'middle_age'\n",
    "  else:\n",
    "    return 'elder'"
   ]
  },
  {
   "cell_type": "code",
   "execution_count": null,
   "metadata": {
    "id": "JIaIEsf3lv2T"
   },
   "outputs": [],
   "source": [
    "# Agrupando passageiros pela idade\n",
    "age_group = cleaned_data.Age.apply(get_age_group)"
   ]
  },
  {
   "cell_type": "code",
   "execution_count": null,
   "metadata": {
    "colab": {
     "base_uri": "https://localhost:8080/"
    },
    "id": "RJUIes0emF-2",
    "outputId": "bbd70a67-1be3-47d7-eb48-fc5e7938f534"
   },
   "outputs": [
    {
     "data": {
      "text/plain": [
       "0      young_adult\n",
       "1       middle_age\n",
       "2      young_adult\n",
       "3       middle_age\n",
       "4       middle_age\n",
       "          ...     \n",
       "886    young_adult\n",
       "887    young_adult\n",
       "888    young_adult\n",
       "889    young_adult\n",
       "890     middle_age\n",
       "Name: Age, Length: 891, dtype: object"
      ]
     },
     "execution_count": 14,
     "metadata": {
      "tags": []
     },
     "output_type": "execute_result"
    }
   ],
   "source": [
    "age_group"
   ]
  },
  {
   "cell_type": "code",
   "execution_count": null,
   "metadata": {
    "id": "ax789aRxmOa4"
   },
   "outputs": [],
   "source": [
    "cleaned_data.loc[:, 'Age_Group'] = age_group"
   ]
  },
  {
   "cell_type": "code",
   "execution_count": null,
   "metadata": {
    "colab": {
     "base_uri": "https://localhost:8080/"
    },
    "id": "ZiPUypsAm2Eq",
    "outputId": "e3330dfc-c783-4f63-be3e-8a6a2b1f88d0"
   },
   "outputs": [
    {
     "data": {
      "text/html": [
       "<div>\n",
       "<style scoped>\n",
       "    .dataframe tbody tr th:only-of-type {\n",
       "        vertical-align: middle;\n",
       "    }\n",
       "\n",
       "    .dataframe tbody tr th {\n",
       "        vertical-align: top;\n",
       "    }\n",
       "\n",
       "    .dataframe thead th {\n",
       "        text-align: right;\n",
       "    }\n",
       "</style>\n",
       "<table border=\"1\" class=\"dataframe\">\n",
       "  <thead>\n",
       "    <tr style=\"text-align: right;\">\n",
       "      <th></th>\n",
       "      <th>PassengerId</th>\n",
       "      <th>Survived</th>\n",
       "      <th>Pclass</th>\n",
       "      <th>Sex</th>\n",
       "      <th>Age</th>\n",
       "      <th>SibSp</th>\n",
       "      <th>Parch</th>\n",
       "      <th>Fare</th>\n",
       "      <th>Embarked</th>\n",
       "      <th>Age_Group</th>\n",
       "    </tr>\n",
       "  </thead>\n",
       "  <tbody>\n",
       "    <tr>\n",
       "      <th>0</th>\n",
       "      <td>1</td>\n",
       "      <td>0</td>\n",
       "      <td>3</td>\n",
       "      <td>male</td>\n",
       "      <td>22.0</td>\n",
       "      <td>1</td>\n",
       "      <td>0</td>\n",
       "      <td>7.2500</td>\n",
       "      <td>S</td>\n",
       "      <td>young_adult</td>\n",
       "    </tr>\n",
       "    <tr>\n",
       "      <th>1</th>\n",
       "      <td>2</td>\n",
       "      <td>1</td>\n",
       "      <td>1</td>\n",
       "      <td>female</td>\n",
       "      <td>38.0</td>\n",
       "      <td>1</td>\n",
       "      <td>0</td>\n",
       "      <td>71.2833</td>\n",
       "      <td>C</td>\n",
       "      <td>middle_age</td>\n",
       "    </tr>\n",
       "    <tr>\n",
       "      <th>2</th>\n",
       "      <td>3</td>\n",
       "      <td>1</td>\n",
       "      <td>3</td>\n",
       "      <td>female</td>\n",
       "      <td>26.0</td>\n",
       "      <td>0</td>\n",
       "      <td>0</td>\n",
       "      <td>7.9250</td>\n",
       "      <td>S</td>\n",
       "      <td>young_adult</td>\n",
       "    </tr>\n",
       "    <tr>\n",
       "      <th>3</th>\n",
       "      <td>4</td>\n",
       "      <td>1</td>\n",
       "      <td>1</td>\n",
       "      <td>female</td>\n",
       "      <td>35.0</td>\n",
       "      <td>1</td>\n",
       "      <td>0</td>\n",
       "      <td>53.1000</td>\n",
       "      <td>S</td>\n",
       "      <td>middle_age</td>\n",
       "    </tr>\n",
       "    <tr>\n",
       "      <th>4</th>\n",
       "      <td>5</td>\n",
       "      <td>0</td>\n",
       "      <td>3</td>\n",
       "      <td>male</td>\n",
       "      <td>35.0</td>\n",
       "      <td>0</td>\n",
       "      <td>0</td>\n",
       "      <td>8.0500</td>\n",
       "      <td>S</td>\n",
       "      <td>middle_age</td>\n",
       "    </tr>\n",
       "  </tbody>\n",
       "</table>\n",
       "</div>"
      ],
      "text/plain": [
       "   PassengerId  Survived  Pclass     Sex  ...  Parch     Fare  Embarked    Age_Group\n",
       "0            1         0       3    male  ...      0   7.2500         S  young_adult\n",
       "1            2         1       1  female  ...      0  71.2833         C   middle_age\n",
       "2            3         1       3  female  ...      0   7.9250         S  young_adult\n",
       "3            4         1       1  female  ...      0  53.1000         S   middle_age\n",
       "4            5         0       3    male  ...      0   8.0500         S   middle_age\n",
       "\n",
       "[5 rows x 10 columns]"
      ]
     },
     "execution_count": 16,
     "metadata": {
      "tags": []
     },
     "output_type": "execute_result"
    }
   ],
   "source": [
    "cleaned_data.head()"
   ]
  },
  {
   "cell_type": "code",
   "execution_count": null,
   "metadata": {
    "colab": {
     "base_uri": "https://localhost:8080/"
    },
    "id": "cKdC75xNzDra",
    "outputId": "daef90ab-5a27-40f9-99e7-ac78d8c7fd89"
   },
   "outputs": [
    {
     "data": {
      "text/html": [
       "<div>\n",
       "<style scoped>\n",
       "    .dataframe tbody tr th:only-of-type {\n",
       "        vertical-align: middle;\n",
       "    }\n",
       "\n",
       "    .dataframe tbody tr th {\n",
       "        vertical-align: top;\n",
       "    }\n",
       "\n",
       "    .dataframe thead th {\n",
       "        text-align: right;\n",
       "    }\n",
       "</style>\n",
       "<table border=\"1\" class=\"dataframe\">\n",
       "  <thead>\n",
       "    <tr style=\"text-align: right;\">\n",
       "      <th></th>\n",
       "      <th>PassengerId</th>\n",
       "      <th>Survived</th>\n",
       "      <th>Pclass</th>\n",
       "      <th>Age</th>\n",
       "      <th>SibSp</th>\n",
       "      <th>Parch</th>\n",
       "      <th>Fare</th>\n",
       "      <th>Sex_female</th>\n",
       "      <th>Sex_male</th>\n",
       "      <th>Embarked_C</th>\n",
       "      <th>Embarked_Q</th>\n",
       "      <th>Embarked_S</th>\n",
       "      <th>Age_Group_child</th>\n",
       "      <th>Age_Group_elder</th>\n",
       "      <th>Age_Group_middle_age</th>\n",
       "      <th>Age_Group_young_adult</th>\n",
       "    </tr>\n",
       "  </thead>\n",
       "  <tbody>\n",
       "    <tr>\n",
       "      <th>0</th>\n",
       "      <td>1</td>\n",
       "      <td>0</td>\n",
       "      <td>3</td>\n",
       "      <td>22.0</td>\n",
       "      <td>1</td>\n",
       "      <td>0</td>\n",
       "      <td>7.2500</td>\n",
       "      <td>0</td>\n",
       "      <td>1</td>\n",
       "      <td>0</td>\n",
       "      <td>0</td>\n",
       "      <td>1</td>\n",
       "      <td>0</td>\n",
       "      <td>0</td>\n",
       "      <td>0</td>\n",
       "      <td>1</td>\n",
       "    </tr>\n",
       "    <tr>\n",
       "      <th>1</th>\n",
       "      <td>2</td>\n",
       "      <td>1</td>\n",
       "      <td>1</td>\n",
       "      <td>38.0</td>\n",
       "      <td>1</td>\n",
       "      <td>0</td>\n",
       "      <td>71.2833</td>\n",
       "      <td>1</td>\n",
       "      <td>0</td>\n",
       "      <td>1</td>\n",
       "      <td>0</td>\n",
       "      <td>0</td>\n",
       "      <td>0</td>\n",
       "      <td>0</td>\n",
       "      <td>1</td>\n",
       "      <td>0</td>\n",
       "    </tr>\n",
       "    <tr>\n",
       "      <th>2</th>\n",
       "      <td>3</td>\n",
       "      <td>1</td>\n",
       "      <td>3</td>\n",
       "      <td>26.0</td>\n",
       "      <td>0</td>\n",
       "      <td>0</td>\n",
       "      <td>7.9250</td>\n",
       "      <td>1</td>\n",
       "      <td>0</td>\n",
       "      <td>0</td>\n",
       "      <td>0</td>\n",
       "      <td>1</td>\n",
       "      <td>0</td>\n",
       "      <td>0</td>\n",
       "      <td>0</td>\n",
       "      <td>1</td>\n",
       "    </tr>\n",
       "    <tr>\n",
       "      <th>3</th>\n",
       "      <td>4</td>\n",
       "      <td>1</td>\n",
       "      <td>1</td>\n",
       "      <td>35.0</td>\n",
       "      <td>1</td>\n",
       "      <td>0</td>\n",
       "      <td>53.1000</td>\n",
       "      <td>1</td>\n",
       "      <td>0</td>\n",
       "      <td>0</td>\n",
       "      <td>0</td>\n",
       "      <td>1</td>\n",
       "      <td>0</td>\n",
       "      <td>0</td>\n",
       "      <td>1</td>\n",
       "      <td>0</td>\n",
       "    </tr>\n",
       "    <tr>\n",
       "      <th>4</th>\n",
       "      <td>5</td>\n",
       "      <td>0</td>\n",
       "      <td>3</td>\n",
       "      <td>35.0</td>\n",
       "      <td>0</td>\n",
       "      <td>0</td>\n",
       "      <td>8.0500</td>\n",
       "      <td>0</td>\n",
       "      <td>1</td>\n",
       "      <td>0</td>\n",
       "      <td>0</td>\n",
       "      <td>1</td>\n",
       "      <td>0</td>\n",
       "      <td>0</td>\n",
       "      <td>1</td>\n",
       "      <td>0</td>\n",
       "    </tr>\n",
       "  </tbody>\n",
       "</table>\n",
       "</div>"
      ],
      "text/plain": [
       "   PassengerId  Survived  ...  Age_Group_middle_age  Age_Group_young_adult\n",
       "0            1         0  ...                     0                      1\n",
       "1            2         1  ...                     1                      0\n",
       "2            3         1  ...                     0                      1\n",
       "3            4         1  ...                     1                      0\n",
       "4            5         0  ...                     1                      0\n",
       "\n",
       "[5 rows x 16 columns]"
      ]
     },
     "execution_count": 17,
     "metadata": {
      "tags": []
     },
     "output_type": "execute_result"
    }
   ],
   "source": [
    "cleaned_data = pd.get_dummies(cleaned_data)\n",
    "cleaned_data.head()"
   ]
  },
  {
   "cell_type": "markdown",
   "metadata": {
    "id": "lMXClViRS8DH"
   },
   "source": [
    "## Descriptive Data Analysis"
   ]
  },
  {
   "cell_type": "markdown",
   "metadata": {
    "id": "Ki-8aiPa0ldA"
   },
   "source": [
    "### Classe\n",
    "\n",
    "Valor numérico 1, 2 e 3 referente a primeira, segunda e terceira classe em que o passageiro viajou, respectivamente."
   ]
  },
  {
   "cell_type": "code",
   "execution_count": null,
   "metadata": {
    "colab": {
     "base_uri": "https://localhost:8080/"
    },
    "id": "8Xc68qCA3aog",
    "outputId": "c8d2f5cd-4499-46d1-dfa8-7bb93d91adfa"
   },
   "outputs": [
    {
     "name": "stdout",
     "output_type": "stream",
     "text": [
      "Porcentagem de pessoas da 1ª classe: 24.24%\n",
      "Porcentagem de pessoas da 2ª classe: 20.65%\n",
      "Porcentagem de pessoas da 3ª classe: 55.11%\n"
     ]
    },
    {
     "data": {
      "text/plain": [
       "<BarContainer object of 3 artists>"
      ]
     },
     "execution_count": 18,
     "metadata": {
      "tags": []
     },
     "output_type": "execute_result"
    },
    {
     "data": {
      "image/png": "[encoded data removed]",
      "text/plain": [
       "<Figure size 432x288 with 1 Axes>"
      ]
     },
     "metadata": {
      "needs_background": "light",
      "tags": []
     },
     "output_type": "display_data"
    }
   ],
   "source": [
    "rate_first_class = cleaned_data.Pclass.value_counts()[1]/PASSANGERS_COUNT*100\n",
    "print(f'Porcentagem de pessoas da 1ª classe: {rate_first_class.round(2)}%')\n",
    "\n",
    "rate_second_class = cleaned_data.Pclass.value_counts()[2]/PASSANGERS_COUNT*100\n",
    "print(f'Porcentagem de pessoas da 2ª classe: {rate_second_class.round(2)}%')\n",
    "\n",
    "rate_third_class = cleaned_data.Pclass.value_counts()[3]/PASSANGERS_COUNT*100\n",
    "print(f'Porcentagem de pessoas da 3ª classe: {rate_third_class.round(2)}%')\n",
    "\n",
    "plt.bar(x = ['1ª Classe', '2ª Classe', '3ª Classe'], height=[rate_first_class, rate_second_class, rate_third_class], data = cleaned_data)"
   ]
  },
  {
   "cell_type": "markdown",
   "metadata": {
    "id": "bMncidkYadDk"
   },
   "source": [
    "Podemos concluir que a maioria (55.11%) dos passageiros estava na 3ª classe, seguida da 1ª classe com 24.24% e da 2ª com 20.65%.\n",
    "\n"
   ]
  },
  {
   "cell_type": "markdown",
   "metadata": {
    "id": "_zoBlleN6_hU"
   },
   "source": [
    "### Sexo\n",
    "\n",
    "Sexo do passageiro."
   ]
  },
  {
   "cell_type": "code",
   "execution_count": null,
   "metadata": {
    "colab": {
     "base_uri": "https://localhost:8080/"
    },
    "id": "soaDLP6s6-7i",
    "outputId": "1129fbc6-41b8-4244-e6ef-5ae1a097b337"
   },
   "outputs": [
    {
     "name": "stdout",
     "output_type": "stream",
     "text": [
      "Porcentagem de pessoas do sexo feminino: 35.24%\n",
      "Porcentagem de pessoas do sexo masculino: 64.76%\n"
     ]
    }
   ],
   "source": [
    "women = cleaned_data.loc[cleaned_data.Sex_female == 1]['Sex_female']\n",
    "rate_women = sum(women)/PASSANGERS_COUNT*100\n",
    "print(f'Porcentagem de pessoas do sexo feminino: {round(rate_women,2)}%')\n",
    "\n",
    "men = cleaned_data.loc[cleaned_data.Sex_male == 1]['Sex_male']\n",
    "rate_men = sum(men)/PASSANGERS_COUNT*100\n",
    "print(f'Porcentagem de pessoas do sexo masculino: {round(rate_men,2)}%')"
   ]
  },
  {
   "cell_type": "code",
   "execution_count": null,
   "metadata": {
    "colab": {
     "base_uri": "https://localhost:8080/"
    },
    "id": "lFnMeoFJ8aX5",
    "outputId": "d9441ee0-240d-4370-8348-9d4ec6f7475f"
   },
   "outputs": [
    {
     "data": {
      "text/plain": [
       "<BarContainer object of 2 artists>"
      ]
     },
     "execution_count": 20,
     "metadata": {
      "tags": []
     },
     "output_type": "execute_result"
    },
    {
     "data": {
      "image/png": "[encoded data removed]",
      "text/plain": [
       "<Figure size 432x288 with 1 Axes>"
      ]
     },
     "metadata": {
      "needs_background": "light",
      "tags": []
     },
     "output_type": "display_data"
    }
   ],
   "source": [
    "plt.bar(x = ['Feminino', 'Masculino'], height=[rate_women, rate_men], data=cleaned_data)"
   ]
  },
  {
   "cell_type": "markdown",
   "metadata": {
    "id": "g9_CyLTDa5Yd"
   },
   "source": [
    "Podemos concluir que a maioria (64.76%) dos passaegiros eram do sexo masculino.\n"
   ]
  },
  {
   "cell_type": "markdown",
   "metadata": {
    "id": "R1UL39G780j7"
   },
   "source": [
    "### Idade"
   ]
  },
  {
   "cell_type": "markdown",
   "metadata": {
    "id": "_xx8hzDsZfKn"
   },
   "source": [
    "Idade do passageiro."
   ]
  },
  {
   "cell_type": "code",
   "execution_count": null,
   "metadata": {
    "colab": {
     "base_uri": "https://localhost:8080/"
    },
    "id": "4p96tq-q83GX",
    "outputId": "f317a643-dd11-426a-f769-112e4500ef99"
   },
   "outputs": [
    {
     "name": "stdout",
     "output_type": "stream",
     "text": [
      "Porcentagem de pessoas 0-16: 11.22%\n",
      "Porcentagem de pessoas 16-30: 54.55%\n",
      "Porcentagem de pessoas 30-45: 22.67%\n",
      "Porcentagem de pessoas acima de 45: 11.56%\n"
     ]
    },
    {
     "data": {
      "text/plain": [
       "<BarContainer object of 4 artists>"
      ]
     },
     "execution_count": 21,
     "metadata": {
      "tags": []
     },
     "output_type": "execute_result"
    },
    {
     "data": {
      "image/png": "[encoded data removed]",
      "text/plain": [
       "<Figure size 432x288 with 1 Axes>"
      ]
     },
     "metadata": {
      "needs_background": "light",
      "tags": []
     },
     "output_type": "display_data"
    }
   ],
   "source": [
    "child = cleaned_data.loc[cleaned_data.Age_Group_child == 1]['Age_Group_child']\n",
    "young_adult = cleaned_data.loc[cleaned_data.Age_Group_young_adult == 1]['Age_Group_young_adult']\n",
    "middle_age = cleaned_data.loc[cleaned_data.Age_Group_middle_age == 1]['Age_Group_middle_age']\n",
    "elder = cleaned_data.loc[cleaned_data.Age_Group_elder == 1]['Age_Group_elder']\n",
    "\n",
    "rate_child = sum(child)/PASSANGERS_COUNT*100\n",
    "print(f'Porcentagem de pessoas 0-16: {round(rate_child,2)}%')\n",
    "rate_young_adult = sum(young_adult)/PASSANGERS_COUNT*100\n",
    "print(f'Porcentagem de pessoas 16-30: {round(rate_young_adult,2)}%')\n",
    "rate_middle_age = sum(middle_age)/PASSANGERS_COUNT*100\n",
    "print(f'Porcentagem de pessoas 30-45: {round(rate_middle_age,2)}%')\n",
    "rate_elder = sum(elder)/PASSANGERS_COUNT*100\n",
    "print(f'Porcentagem de pessoas acima de 45: {round(rate_elder,2)}%')\n",
    "\n",
    "plt.bar(x = ['Criança', 'Joven Adulto', 'Meia Idade', 'Idoso'], height=[rate_child, rate_young_adult, rate_middle_age, rate_elder], data = cleaned_data)"
   ]
  },
  {
   "cell_type": "markdown",
   "metadata": {
    "id": "wECLgFcHbQTB"
   },
   "source": [
    "Como apresentado acima, foi feito um agrupamento das idades dos passageiros. Podemos concluir que a maioria dos passageiros (54.55%) são jovens adultos. A minoria dos passageiros (11.22%) são crianças."
   ]
  },
  {
   "cell_type": "markdown",
   "metadata": {
    "id": "pQcqpkk0MYGY"
   },
   "source": [
    "### Acompanhantes"
   ]
  },
  {
   "cell_type": "markdown",
   "metadata": {
    "id": "HVV0d362ZjWS"
   },
   "source": [
    "A coluna \"Parch\" representa quantos pais / filhos estão acompanhando o passageiro. A coluna \"SibSp\" representa quantos conjugês/irmãos estão acompanhando o passageiro."
   ]
  },
  {
   "cell_type": "code",
   "execution_count": null,
   "metadata": {
    "colab": {
     "base_uri": "https://localhost:8080/"
    },
    "id": "2CYq0i98PgBY",
    "outputId": "03fb5804-0740-45b2-c921-76693cb66314"
   },
   "outputs": [
    {
     "data": {
      "text/plain": [
       "<BarContainer object of 2 artists>"
      ]
     },
     "execution_count": 22,
     "metadata": {
      "tags": []
     },
     "output_type": "execute_result"
    },
    {
     "data": {
      "image/png": "[encoded data removed]",
      "text/plain": [
       "<Figure size 432x288 with 1 Axes>"
      ]
     },
     "metadata": {
      "needs_background": "light",
      "tags": []
     },
     "output_type": "display_data"
    }
   ],
   "source": [
    "pc = cleaned_data.loc[cleaned_data.Parch >= 1]['Parch']\n",
    "sp = cleaned_data.loc[cleaned_data.SibSp >= 1]['SibSp']\n",
    "\n",
    "rate_pc = sum(pc)/PASSANGERS_COUNT*100\n",
    "rate_sp = sum(sp)/PASSANGERS_COUNT*100\n",
    "\n",
    "plt.bar(x = ['Pais e/ou filhos', 'Irmãos e/ou cônjuge'], height=[rate_pc, rate_sp], data = cleaned_data)"
   ]
  },
  {
   "cell_type": "markdown",
   "metadata": {
    "id": "cQJQrQZseMdO"
   },
   "source": [
    "### Embarque"
   ]
  },
  {
   "cell_type": "markdown",
   "metadata": {
    "id": "X6DhaMSbZ4MB"
   },
   "source": [
    "Letras C, Q e S que indica Cherbourg, Queenstown e Southampton respectivamente o nome dos portos que cada passageiro embarcou."
   ]
  },
  {
   "cell_type": "code",
   "execution_count": null,
   "metadata": {
    "colab": {
     "base_uri": "https://localhost:8080/"
    },
    "id": "MdY5UjDAAHu6",
    "outputId": "3167294e-15eb-4708-f627-ccd0a43d593f"
   },
   "outputs": [
    {
     "name": "stdout",
     "output_type": "stream",
     "text": [
      "Porcentagem de pessoas embarcaram em Cherbourg: 18.86%\n",
      "Porcentagem de pessoas embarcaram em Queenstown: 8.64%\n",
      "Porcentagem de pessoas embarcaram em Southampton: 72.28%\n"
     ]
    },
    {
     "data": {
      "text/plain": [
       "<BarContainer object of 3 artists>"
      ]
     },
     "execution_count": 23,
     "metadata": {
      "tags": []
     },
     "output_type": "execute_result"
    },
    {
     "data": {
      "image/png": "[encoded data removed]",
      "text/plain": [
       "<Figure size 432x288 with 1 Axes>"
      ]
     },
     "metadata": {
      "needs_background": "light",
      "tags": []
     },
     "output_type": "display_data"
    }
   ],
   "source": [
    "c = cleaned_data.loc[cleaned_data.Embarked_C == 1]['Embarked_C']\n",
    "q = cleaned_data.loc[cleaned_data.Embarked_Q == 1]['Embarked_Q']\n",
    "s = cleaned_data.loc[cleaned_data.Embarked_S == 1]['Embarked_S']\n",
    "\n",
    "rate_c = sum(c)/PASSANGERS_COUNT*100\n",
    "print(f'Porcentagem de pessoas embarcaram em Cherbourg: {round(rate_c,2)}%')\n",
    "rate_q = sum(q)/PASSANGERS_COUNT*100\n",
    "print(f'Porcentagem de pessoas embarcaram em Queenstown: {round(rate_q,2)}%')\n",
    "rate_s = sum(s)/PASSANGERS_COUNT*100\n",
    "print(f'Porcentagem de pessoas embarcaram em Southampton: {round(rate_s,2)}%')\n",
    "\n",
    "plt.bar(x = ['Cherbourg', 'Queenstown' , 'Southampton'], height=[rate_c, rate_q, rate_s], data = cleaned_data)"
   ]
  },
  {
   "cell_type": "markdown",
   "metadata": {
    "id": "K9nzMcuqcqP1"
   },
   "source": [
    "Podemos concluir que a maioria (72,28%) dos passageiros embarcaram em Southampton."
   ]
  },
  {
   "cell_type": "markdown",
   "metadata": {
    "id": "urNs087RTwAS"
   },
   "source": [
    "### Sobreviventes"
   ]
  },
  {
   "cell_type": "markdown",
   "metadata": {
    "id": "kuPRB9lZUX_F"
   },
   "source": [
    "A coluna \"Survived\" apresenta se o passageiro sobreviveu (1) ou não (0)."
   ]
  },
  {
   "cell_type": "code",
   "execution_count": null,
   "metadata": {
    "colab": {
     "base_uri": "https://localhost:8080/"
    },
    "id": "TKAlU1USULY5",
    "outputId": "97e2c44c-520c-415d-d019-5e22025908ba"
   },
   "outputs": [
    {
     "name": "stdout",
     "output_type": "stream",
     "text": [
      "Porcentagem de pessoas que sobreviveram: 38.38%\n"
     ]
    },
    {
     "data": {
      "text/plain": [
       "<BarContainer object of 2 artists>"
      ]
     },
     "execution_count": 24,
     "metadata": {
      "tags": []
     },
     "output_type": "execute_result"
    },
    {
     "data": {
      "image/png": "[encoded data removed]",
      "text/plain": [
       "<Figure size 432x288 with 1 Axes>"
      ]
     },
     "metadata": {
      "needs_background": "light",
      "tags": []
     },
     "output_type": "display_data"
    }
   ],
   "source": [
    "survived = cleaned_data['Survived']\n",
    "print(f'Porcentagem de pessoas que sobreviveram: {round(sum(survived)/len(survived)*100,2)}%')\n",
    "plt.bar(x = ['Sobreviventes', 'Não Sobreviventes'], height=[sum(survived)/len(survived)*100, (len(survived)-sum(survived))/len(survived)*100], data=cleaned_data)"
   ]
  },
  {
   "cell_type": "markdown",
   "metadata": {
    "id": "EY1wkZyfcyv4"
   },
   "source": [
    "Podemos concluir que 38,38% das pessoas sobreviveram."
   ]
  },
  {
   "cell_type": "markdown",
   "metadata": {
    "id": "K84Xp3wd9tzM"
   },
   "source": [
    "#### Relação com o sexo"
   ]
  },
  {
   "cell_type": "code",
   "execution_count": null,
   "metadata": {
    "colab": {
     "base_uri": "https://localhost:8080/"
    },
    "id": "MxIlept32cks",
    "outputId": "88775d6e-c79c-464d-bc35-2ed81f48f6d8"
   },
   "outputs": [
    {
     "name": "stdout",
     "output_type": "stream",
     "text": [
      "Porcentagem de pessoas do sexo feminino que sobreviveram: 74.2%\n",
      "Porcentagem de pessoas do sexo masculino que sobreviveram: 18.89%\n"
     ]
    }
   ],
   "source": [
    "women = cleaned_data.loc[cleaned_data.Sex_female == 1]['Survived']\n",
    "rate_women = sum(women)/len(women)*100\n",
    "print(f'Porcentagem de pessoas do sexo feminino que sobreviveram: {round(rate_women,2)}%')\n",
    "\n",
    "men = cleaned_data.loc[cleaned_data.Sex_male == 1]['Survived']\n",
    "rate_men = sum(men)/len(men)*100\n",
    "print(f'Porcentagem de pessoas do sexo masculino que sobreviveram: {round(rate_men,2)}%')\n"
   ]
  },
  {
   "cell_type": "code",
   "execution_count": null,
   "metadata": {
    "colab": {
     "base_uri": "https://localhost:8080/"
    },
    "id": "ylnM-qfs7zD5",
    "outputId": "8ec135ad-08fa-43f5-9db8-163e8ed083c5"
   },
   "outputs": [
    {
     "data": {
      "text/plain": [
       "<BarContainer object of 2 artists>"
      ]
     },
     "execution_count": 26,
     "metadata": {
      "tags": []
     },
     "output_type": "execute_result"
    },
    {
     "data": {
      "image/png": "[encoded data removed]",
      "text/plain": [
       "<Figure size 432x288 with 1 Axes>"
      ]
     },
     "metadata": {
      "needs_background": "light",
      "tags": []
     },
     "output_type": "display_data"
    }
   ],
   "source": [
    "plt.bar(x = ['Female', 'Male'], height=[rate_women, rate_men], data=cleaned_data)"
   ]
  },
  {
   "cell_type": "markdown",
   "metadata": {
    "id": "aTkcd0lF5Bos"
   },
   "source": [
    "Podemos concluir que, de todas as passageiras do sexo feminino, a maioria (74.2%) sobreviveu, enquanto de todos os passageiros do sexo masculino, apenas (18.83%) sobreviveu. "
   ]
  },
  {
   "cell_type": "markdown",
   "metadata": {
    "id": "_olBMmBuclPW"
   },
   "source": [
    "#### Relação com classe"
   ]
  },
  {
   "cell_type": "code",
   "execution_count": null,
   "metadata": {
    "colab": {
     "base_uri": "https://localhost:8080/"
    },
    "id": "0kBNdQXSdyAb",
    "outputId": "a18cd6be-8ca1-4569-a961-914f723693f1"
   },
   "outputs": [
    {
     "name": "stdout",
     "output_type": "stream",
     "text": [
      "Porcentagem de pessoas da 1ª classe que sobreviveram: 62.96%\n",
      "Porcentagem de pessoas da 2ª classe que sobreviveram: 47.28%\n",
      "Porcentagem de pessoas da 3ª classe que sobreviveram: 24.24%\n"
     ]
    },
    {
     "data": {
      "text/plain": [
       "<BarContainer object of 3 artists>"
      ]
     },
     "execution_count": 27,
     "metadata": {
      "tags": []
     },
     "output_type": "execute_result"
    },
    {
     "data": {
      "image/png": "[encoded data removed]",
      "text/plain": [
       "<Figure size 432x288 with 1 Axes>"
      ]
     },
     "metadata": {
      "needs_background": "light",
      "tags": []
     },
     "output_type": "display_data"
    }
   ],
   "source": [
    "first_class = cleaned_data.loc[cleaned_data.Pclass == 1]['Survived']\n",
    "second_class = cleaned_data.loc[cleaned_data.Pclass == 2]['Survived']\n",
    "third_class = cleaned_data.loc[cleaned_data.Pclass == 3]['Survived']\n",
    "\n",
    "rate_first_class = sum(first_class)/len(first_class)*100\n",
    "print(f'Porcentagem de pessoas da 1ª classe que sobreviveram: {round(rate_first_class, 2)}%')\n",
    "\n",
    "rate_second_class = sum(second_class)/len(second_class)*100\n",
    "print(f'Porcentagem de pessoas da 2ª classe que sobreviveram: {round(rate_second_class,2)}%')\n",
    "\n",
    "rate_third_class = sum(third_class)/len(third_class)*100\n",
    "print(f'Porcentagem de pessoas da 3ª classe que sobreviveram: {round(rate_third_class,2)}%')\n",
    "\n",
    "plt.bar(x = ['1ª Classe', '2ª Classe', '3ª Classe'], height=[rate_first_class, rate_second_class, rate_third_class], data = cleaned_data)"
   ]
  },
  {
   "cell_type": "markdown",
   "metadata": {
    "id": "u40OuPV_f2do"
   },
   "source": [
    "Acima mostramos qual porentagem das pessoas de cada classe sobreviveram.\n"
   ]
  },
  {
   "cell_type": "markdown",
   "metadata": {
    "id": "Lgmy8-D37Bsu"
   },
   "source": [
    "#### Relação com classe e sexo"
   ]
  },
  {
   "cell_type": "code",
   "execution_count": null,
   "metadata": {
    "colab": {
     "base_uri": "https://localhost:8080/"
    },
    "id": "UOiZ8NVO7MyP",
    "outputId": "9386f93c-b6c7-42c8-81ce-f671bac90dee"
   },
   "outputs": [
    {
     "name": "stdout",
     "output_type": "stream",
     "text": [
      "Porcentagem de pessoas do sexo feminino da 1ª classe que sobreviveram: 96.81%\n",
      "Porcentagem de pessoas do sexo masculino da 1ª classe que sobreviveram: 36.89%\n",
      "Porcentagem de pessoas do sexo feminino da 2ª classe que sobreviveram: 92.11%\n",
      "Porcentagem de pessoas do sexo masculino da 2ª classe que sobreviveram: 15.74%\n",
      "Porcentagem de pessoas do sexo feminino da 3ª classe que sobreviveram: 50.0%\n",
      "Porcentagem de pessoas do sexo masculino da 3ª classe que sobreviveram: 13.54%\n"
     ]
    },
    {
     "data": {
      "image/png": "[encoded data removed]",
      "text/plain": [
       "<Figure size 432x288 with 1 Axes>"
      ]
     },
     "metadata": {
      "needs_background": "light",
      "tags": []
     },
     "output_type": "display_data"
    }
   ],
   "source": [
    "labels = ('1ª Classe', '2ª Classe', '3ª Classe')\n",
    "\n",
    "first_class_men = cleaned_data.loc[(cleaned_data.Pclass == 1) & (cleaned_data.Sex_male == 1)]['Survived']\n",
    "first_class_women = cleaned_data.loc[(cleaned_data.Pclass == 1) & (cleaned_data.Sex_female == 1)]['Survived']\n",
    "\n",
    "second_class_men = cleaned_data.loc[(cleaned_data.Pclass == 2) & (cleaned_data.Sex_male == 1)]['Survived']\n",
    "second_class_women = cleaned_data.loc[(cleaned_data.Pclass == 2) & (cleaned_data.Sex_female == 1)]['Survived']\n",
    "\n",
    "third_class_men = cleaned_data.loc[(cleaned_data.Pclass == 3) & (cleaned_data.Sex_male == 1)]['Survived']\n",
    "third_class_women = cleaned_data.loc[(cleaned_data.Pclass == 3) & (cleaned_data.Sex_female == 1)]['Survived']\n",
    "\n",
    "rate_first_class_women = sum(first_class_women)/len(first_class_women)*100\n",
    "print(f'Porcentagem de pessoas do sexo feminino da 1ª classe que sobreviveram: {round(rate_first_class_women, 2)}%')\n",
    "rate_first_class_men = sum(first_class_men)/len(first_class_men)*100\n",
    "print(f'Porcentagem de pessoas do sexo masculino da 1ª classe que sobreviveram: {round(rate_first_class_men, 2)}%')\n",
    "\n",
    "rate_second_class_women = sum(second_class_women)/len(second_class_women)*100\n",
    "print(f'Porcentagem de pessoas do sexo feminino da 2ª classe que sobreviveram: {round(rate_second_class_women, 2)}%')\n",
    "rate_second_class_men = sum(second_class_men)/len(second_class_men)*100\n",
    "print(f'Porcentagem de pessoas do sexo masculino da 2ª classe que sobreviveram: {round(rate_second_class_men, 2)}%')\n",
    "\n",
    "rate_third_class_women = sum(third_class_women)/len(third_class_women)*100\n",
    "print(f'Porcentagem de pessoas do sexo feminino da 3ª classe que sobreviveram: {round(rate_third_class_women, 2)}%')\n",
    "rate_third_class_men = sum(third_class_men)/len(third_class_men)*100\n",
    "print(f'Porcentagem de pessoas do sexo masculino da 3ª classe que sobreviveram: {round(rate_third_class_men, 2)}%')\n",
    "\n",
    "N = 3\n",
    "men_means = (rate_first_class_men, rate_second_class_men, rate_third_class_men)\n",
    "women_means = (rate_first_class_women, rate_second_class_women, rate_third_class_women)\n",
    "\n",
    "ind = np.arange(N) \n",
    "width = 0.35    \n",
    "\n",
    "plt.bar(ind, women_means, width,\n",
    "    label='Feminino')   \n",
    "plt.bar(ind + width, men_means, width, label='Masculino')\n",
    "\n",
    "plt.xticks(ind + width / 2, labels)\n",
    "plt.legend(loc='best')\n",
    "plt.show()\n"
   ]
  },
  {
   "cell_type": "markdown",
   "metadata": {
    "id": "GyRppKughwGR"
   },
   "source": [
    "#### Relação com idade"
   ]
  },
  {
   "cell_type": "code",
   "execution_count": null,
   "metadata": {
    "colab": {
     "base_uri": "https://localhost:8080/"
    },
    "id": "gzAwxV3YoAIA",
    "outputId": "5d23fd99-c60b-4b55-ac2d-486ebbfde5ad"
   },
   "outputs": [
    {
     "name": "stdout",
     "output_type": "stream",
     "text": [
      "Porcentagem de crianças que sobreviveram: 55.0%\n",
      "Porcentagem de jovens adultos que sobreviveram: 33.54%\n",
      "Porcentagem de meia idade que sobreviveram: 42.57%\n",
      "Porcentagem de idosos que sobreviveram: 36.89%\n"
     ]
    },
    {
     "data": {
      "text/plain": [
       "<BarContainer object of 4 artists>"
      ]
     },
     "execution_count": 29,
     "metadata": {
      "tags": []
     },
     "output_type": "execute_result"
    },
    {
     "data": {
      "image/png": "[encoded data removed]",
      "text/plain": [
       "<Figure size 432x288 with 1 Axes>"
      ]
     },
     "metadata": {
      "needs_background": "light",
      "tags": []
     },
     "output_type": "display_data"
    }
   ],
   "source": [
    "child = cleaned_data.loc[cleaned_data.Age_Group_child == 1]['Survived']\n",
    "young_adult = cleaned_data.loc[cleaned_data.Age_Group_young_adult == 1]['Survived']\n",
    "middle_age = cleaned_data.loc[cleaned_data.Age_Group_middle_age == 1]['Survived']\n",
    "elder = cleaned_data.loc[cleaned_data.Age_Group_elder == 1]['Survived']\n",
    "\n",
    "rate_child = sum(child)/len(child)*100\n",
    "print(f'Porcentagem de crianças que sobreviveram: {round(rate_child, 2)}%')\n",
    "rate_young_adult = sum(young_adult)/len(young_adult)*100\n",
    "print(f'Porcentagem de jovens adultos que sobreviveram: {round(rate_young_adult, 2)}%')\n",
    "rate_middle_age = sum(middle_age)/len(middle_age)*100\n",
    "print(f'Porcentagem de meia idade que sobreviveram: {round(rate_middle_age, 2)}%')\n",
    "rate_elder = sum(elder)/len(elder)*100\n",
    "print(f'Porcentagem de idosos que sobreviveram: {round(rate_elder, 2)}%')\n",
    "\n",
    "\n",
    "plt.bar(x = ['Crianças', 'Jovens Adultos', 'Meia Idade', 'Idosos'], height=[rate_child, rate_young_adult, rate_middle_age, rate_elder], data = cleaned_data)"
   ]
  },
  {
   "cell_type": "code",
   "execution_count": null,
   "metadata": {
    "id": "aM1jmd0V-aya"
   },
   "outputs": [],
   "source": []
  },
  {
   "cell_type": "markdown",
   "metadata": {
    "id": "pb66aA8c-svI"
   },
   "source": [
    "## Preparação dos Dados Teste\n"
   ]
  },
  {
   "cell_type": "code",
   "execution_count": null,
   "metadata": {
    "colab": {
     "base_uri": "https://localhost:8080/",
     "height": 222
    },
    "id": "d-dk230f_O8w",
    "outputId": "f4fb9f6e-8f87-4ab1-aa10-7787d00b7b98"
   },
   "outputs": [
    {
     "data": {
      "text/html": [
       "<div>\n",
       "<style scoped>\n",
       "    .dataframe tbody tr th:only-of-type {\n",
       "        vertical-align: middle;\n",
       "    }\n",
       "\n",
       "    .dataframe tbody tr th {\n",
       "        vertical-align: top;\n",
       "    }\n",
       "\n",
       "    .dataframe thead th {\n",
       "        text-align: right;\n",
       "    }\n",
       "</style>\n",
       "<table border=\"1\" class=\"dataframe\">\n",
       "  <thead>\n",
       "    <tr style=\"text-align: right;\">\n",
       "      <th></th>\n",
       "      <th>PassengerId</th>\n",
       "      <th>Survived</th>\n",
       "      <th>Pclass</th>\n",
       "      <th>Age</th>\n",
       "      <th>SibSp</th>\n",
       "      <th>Parch</th>\n",
       "      <th>Fare</th>\n",
       "      <th>Sex_female</th>\n",
       "      <th>Sex_male</th>\n",
       "      <th>Embarked_C</th>\n",
       "      <th>Embarked_Q</th>\n",
       "      <th>Embarked_S</th>\n",
       "      <th>Age_Group_child</th>\n",
       "      <th>Age_Group_elder</th>\n",
       "      <th>Age_Group_middle_age</th>\n",
       "      <th>Age_Group_young_adult</th>\n",
       "    </tr>\n",
       "  </thead>\n",
       "  <tbody>\n",
       "    <tr>\n",
       "      <th>0</th>\n",
       "      <td>1</td>\n",
       "      <td>0</td>\n",
       "      <td>3</td>\n",
       "      <td>22.0</td>\n",
       "      <td>1</td>\n",
       "      <td>0</td>\n",
       "      <td>7.2500</td>\n",
       "      <td>0</td>\n",
       "      <td>1</td>\n",
       "      <td>0</td>\n",
       "      <td>0</td>\n",
       "      <td>1</td>\n",
       "      <td>0</td>\n",
       "      <td>0</td>\n",
       "      <td>0</td>\n",
       "      <td>1</td>\n",
       "    </tr>\n",
       "    <tr>\n",
       "      <th>1</th>\n",
       "      <td>2</td>\n",
       "      <td>1</td>\n",
       "      <td>1</td>\n",
       "      <td>38.0</td>\n",
       "      <td>1</td>\n",
       "      <td>0</td>\n",
       "      <td>71.2833</td>\n",
       "      <td>1</td>\n",
       "      <td>0</td>\n",
       "      <td>1</td>\n",
       "      <td>0</td>\n",
       "      <td>0</td>\n",
       "      <td>0</td>\n",
       "      <td>0</td>\n",
       "      <td>1</td>\n",
       "      <td>0</td>\n",
       "    </tr>\n",
       "    <tr>\n",
       "      <th>2</th>\n",
       "      <td>3</td>\n",
       "      <td>1</td>\n",
       "      <td>3</td>\n",
       "      <td>26.0</td>\n",
       "      <td>0</td>\n",
       "      <td>0</td>\n",
       "      <td>7.9250</td>\n",
       "      <td>1</td>\n",
       "      <td>0</td>\n",
       "      <td>0</td>\n",
       "      <td>0</td>\n",
       "      <td>1</td>\n",
       "      <td>0</td>\n",
       "      <td>0</td>\n",
       "      <td>0</td>\n",
       "      <td>1</td>\n",
       "    </tr>\n",
       "    <tr>\n",
       "      <th>3</th>\n",
       "      <td>4</td>\n",
       "      <td>1</td>\n",
       "      <td>1</td>\n",
       "      <td>35.0</td>\n",
       "      <td>1</td>\n",
       "      <td>0</td>\n",
       "      <td>53.1000</td>\n",
       "      <td>1</td>\n",
       "      <td>0</td>\n",
       "      <td>0</td>\n",
       "      <td>0</td>\n",
       "      <td>1</td>\n",
       "      <td>0</td>\n",
       "      <td>0</td>\n",
       "      <td>1</td>\n",
       "      <td>0</td>\n",
       "    </tr>\n",
       "    <tr>\n",
       "      <th>4</th>\n",
       "      <td>5</td>\n",
       "      <td>0</td>\n",
       "      <td>3</td>\n",
       "      <td>35.0</td>\n",
       "      <td>0</td>\n",
       "      <td>0</td>\n",
       "      <td>8.0500</td>\n",
       "      <td>0</td>\n",
       "      <td>1</td>\n",
       "      <td>0</td>\n",
       "      <td>0</td>\n",
       "      <td>1</td>\n",
       "      <td>0</td>\n",
       "      <td>0</td>\n",
       "      <td>1</td>\n",
       "      <td>0</td>\n",
       "    </tr>\n",
       "  </tbody>\n",
       "</table>\n",
       "</div>"
      ],
      "text/plain": [
       "   PassengerId  Survived  ...  Age_Group_middle_age  Age_Group_young_adult\n",
       "0            1         0  ...                     0                      1\n",
       "1            2         1  ...                     1                      0\n",
       "2            3         1  ...                     0                      1\n",
       "3            4         1  ...                     1                      0\n",
       "4            5         0  ...                     1                      0\n",
       "\n",
       "[5 rows x 16 columns]"
      ]
     },
     "execution_count": 30,
     "metadata": {
      "tags": []
     },
     "output_type": "execute_result"
    }
   ],
   "source": [
    "cleaned_data.head()"
   ]
  },
  {
   "cell_type": "code",
   "execution_count": null,
   "metadata": {
    "id": "C5qggesq-o_R"
   },
   "outputs": [],
   "source": [
    "test = pd.read_csv('titanic/data/test.csv')"
   ]
  },
  {
   "cell_type": "code",
   "execution_count": null,
   "metadata": {
    "colab": {
     "base_uri": "https://localhost:8080/",
     "height": 202
    },
    "id": "bZ-DUpxC_ejK",
    "outputId": "c614f163-c02b-4a18-d86d-3c56221c8212"
   },
   "outputs": [
    {
     "data": {
      "text/html": [
       "<div>\n",
       "<style scoped>\n",
       "    .dataframe tbody tr th:only-of-type {\n",
       "        vertical-align: middle;\n",
       "    }\n",
       "\n",
       "    .dataframe tbody tr th {\n",
       "        vertical-align: top;\n",
       "    }\n",
       "\n",
       "    .dataframe thead th {\n",
       "        text-align: right;\n",
       "    }\n",
       "</style>\n",
       "<table border=\"1\" class=\"dataframe\">\n",
       "  <thead>\n",
       "    <tr style=\"text-align: right;\">\n",
       "      <th></th>\n",
       "      <th>PassengerId</th>\n",
       "      <th>Pclass</th>\n",
       "      <th>Name</th>\n",
       "      <th>Sex</th>\n",
       "      <th>Age</th>\n",
       "      <th>SibSp</th>\n",
       "      <th>Parch</th>\n",
       "      <th>Ticket</th>\n",
       "      <th>Fare</th>\n",
       "      <th>Cabin</th>\n",
       "      <th>Embarked</th>\n",
       "    </tr>\n",
       "  </thead>\n",
       "  <tbody>\n",
       "    <tr>\n",
       "      <th>0</th>\n",
       "      <td>892</td>\n",
       "      <td>3</td>\n",
       "      <td>Kelly, Mr. James</td>\n",
       "      <td>male</td>\n",
       "      <td>34.5</td>\n",
       "      <td>0</td>\n",
       "      <td>0</td>\n",
       "      <td>330911</td>\n",
       "      <td>7.8292</td>\n",
       "      <td>NaN</td>\n",
       "      <td>Q</td>\n",
       "    </tr>\n",
       "    <tr>\n",
       "      <th>1</th>\n",
       "      <td>893</td>\n",
       "      <td>3</td>\n",
       "      <td>Wilkes, Mrs. James (Ellen Needs)</td>\n",
       "      <td>female</td>\n",
       "      <td>47.0</td>\n",
       "      <td>1</td>\n",
       "      <td>0</td>\n",
       "      <td>363272</td>\n",
       "      <td>7.0000</td>\n",
       "      <td>NaN</td>\n",
       "      <td>S</td>\n",
       "    </tr>\n",
       "    <tr>\n",
       "      <th>2</th>\n",
       "      <td>894</td>\n",
       "      <td>2</td>\n",
       "      <td>Myles, Mr. Thomas Francis</td>\n",
       "      <td>male</td>\n",
       "      <td>62.0</td>\n",
       "      <td>0</td>\n",
       "      <td>0</td>\n",
       "      <td>240276</td>\n",
       "      <td>9.6875</td>\n",
       "      <td>NaN</td>\n",
       "      <td>Q</td>\n",
       "    </tr>\n",
       "    <tr>\n",
       "      <th>3</th>\n",
       "      <td>895</td>\n",
       "      <td>3</td>\n",
       "      <td>Wirz, Mr. Albert</td>\n",
       "      <td>male</td>\n",
       "      <td>27.0</td>\n",
       "      <td>0</td>\n",
       "      <td>0</td>\n",
       "      <td>315154</td>\n",
       "      <td>8.6625</td>\n",
       "      <td>NaN</td>\n",
       "      <td>S</td>\n",
       "    </tr>\n",
       "    <tr>\n",
       "      <th>4</th>\n",
       "      <td>896</td>\n",
       "      <td>3</td>\n",
       "      <td>Hirvonen, Mrs. Alexander (Helga E Lindqvist)</td>\n",
       "      <td>female</td>\n",
       "      <td>22.0</td>\n",
       "      <td>1</td>\n",
       "      <td>1</td>\n",
       "      <td>3101298</td>\n",
       "      <td>12.2875</td>\n",
       "      <td>NaN</td>\n",
       "      <td>S</td>\n",
       "    </tr>\n",
       "  </tbody>\n",
       "</table>\n",
       "</div>"
      ],
      "text/plain": [
       "   PassengerId  Pclass  ... Cabin Embarked\n",
       "0          892       3  ...   NaN        Q\n",
       "1          893       3  ...   NaN        S\n",
       "2          894       2  ...   NaN        Q\n",
       "3          895       3  ...   NaN        S\n",
       "4          896       3  ...   NaN        S\n",
       "\n",
       "[5 rows x 11 columns]"
      ]
     },
     "execution_count": 32,
     "metadata": {
      "tags": []
     },
     "output_type": "execute_result"
    }
   ],
   "source": [
    "test.head()"
   ]
  },
  {
   "cell_type": "code",
   "execution_count": null,
   "metadata": {
    "id": "QOG0Mlgg_gAm"
   },
   "outputs": [],
   "source": [
    "cleaned_test = test.drop(columns=['Name','Ticket', 'Cabin'])"
   ]
  },
  {
   "cell_type": "code",
   "execution_count": null,
   "metadata": {
    "colab": {
     "base_uri": "https://localhost:8080/"
    },
    "id": "dV_kttGWFROn",
    "outputId": "5a673566-627d-4bb7-b468-9b5d170dd8aa"
   },
   "outputs": [
    {
     "name": "stdout",
     "output_type": "stream",
     "text": [
      "<class 'pandas.core.frame.DataFrame'>\n",
      "RangeIndex: 418 entries, 0 to 417\n",
      "Data columns (total 8 columns):\n",
      " #   Column       Non-Null Count  Dtype  \n",
      "---  ------       --------------  -----  \n",
      " 0   PassengerId  418 non-null    int64  \n",
      " 1   Pclass       418 non-null    int64  \n",
      " 2   Sex          418 non-null    object \n",
      " 3   Age          332 non-null    float64\n",
      " 4   SibSp        418 non-null    int64  \n",
      " 5   Parch        418 non-null    int64  \n",
      " 6   Fare         417 non-null    float64\n",
      " 7   Embarked     418 non-null    object \n",
      "dtypes: float64(2), int64(4), object(2)\n",
      "memory usage: 26.2+ KB\n"
     ]
    }
   ],
   "source": [
    "cleaned_test.info()"
   ]
  },
  {
   "cell_type": "code",
   "execution_count": null,
   "metadata": {
    "colab": {
     "base_uri": "https://localhost:8080/",
     "height": 202
    },
    "id": "2PpvF392FHLU",
    "outputId": "5fa1b1f8-9fa9-4adb-98a8-ed605aec3e84"
   },
   "outputs": [
    {
     "data": {
      "text/html": [
       "<div>\n",
       "<style scoped>\n",
       "    .dataframe tbody tr th:only-of-type {\n",
       "        vertical-align: middle;\n",
       "    }\n",
       "\n",
       "    .dataframe tbody tr th {\n",
       "        vertical-align: top;\n",
       "    }\n",
       "\n",
       "    .dataframe thead th {\n",
       "        text-align: right;\n",
       "    }\n",
       "</style>\n",
       "<table border=\"1\" class=\"dataframe\">\n",
       "  <thead>\n",
       "    <tr style=\"text-align: right;\">\n",
       "      <th></th>\n",
       "      <th>PassengerId</th>\n",
       "      <th>Pclass</th>\n",
       "      <th>Sex</th>\n",
       "      <th>Age</th>\n",
       "      <th>SibSp</th>\n",
       "      <th>Parch</th>\n",
       "      <th>Fare</th>\n",
       "      <th>Embarked</th>\n",
       "    </tr>\n",
       "  </thead>\n",
       "  <tbody>\n",
       "    <tr>\n",
       "      <th>0</th>\n",
       "      <td>892</td>\n",
       "      <td>3</td>\n",
       "      <td>male</td>\n",
       "      <td>34.5</td>\n",
       "      <td>0</td>\n",
       "      <td>0</td>\n",
       "      <td>7.8292</td>\n",
       "      <td>Q</td>\n",
       "    </tr>\n",
       "    <tr>\n",
       "      <th>1</th>\n",
       "      <td>893</td>\n",
       "      <td>3</td>\n",
       "      <td>female</td>\n",
       "      <td>47.0</td>\n",
       "      <td>1</td>\n",
       "      <td>0</td>\n",
       "      <td>7.0000</td>\n",
       "      <td>S</td>\n",
       "    </tr>\n",
       "    <tr>\n",
       "      <th>2</th>\n",
       "      <td>894</td>\n",
       "      <td>2</td>\n",
       "      <td>male</td>\n",
       "      <td>62.0</td>\n",
       "      <td>0</td>\n",
       "      <td>0</td>\n",
       "      <td>9.6875</td>\n",
       "      <td>Q</td>\n",
       "    </tr>\n",
       "    <tr>\n",
       "      <th>3</th>\n",
       "      <td>895</td>\n",
       "      <td>3</td>\n",
       "      <td>male</td>\n",
       "      <td>27.0</td>\n",
       "      <td>0</td>\n",
       "      <td>0</td>\n",
       "      <td>8.6625</td>\n",
       "      <td>S</td>\n",
       "    </tr>\n",
       "    <tr>\n",
       "      <th>4</th>\n",
       "      <td>896</td>\n",
       "      <td>3</td>\n",
       "      <td>female</td>\n",
       "      <td>22.0</td>\n",
       "      <td>1</td>\n",
       "      <td>1</td>\n",
       "      <td>12.2875</td>\n",
       "      <td>S</td>\n",
       "    </tr>\n",
       "  </tbody>\n",
       "</table>\n",
       "</div>"
      ],
      "text/plain": [
       "   PassengerId  Pclass     Sex   Age  SibSp  Parch     Fare Embarked\n",
       "0          892       3    male  34.5      0      0   7.8292        Q\n",
       "1          893       3  female  47.0      1      0   7.0000        S\n",
       "2          894       2    male  62.0      0      0   9.6875        Q\n",
       "3          895       3    male  27.0      0      0   8.6625        S\n",
       "4          896       3  female  22.0      1      1  12.2875        S"
      ]
     },
     "execution_count": 35,
     "metadata": {
      "tags": []
     },
     "output_type": "execute_result"
    }
   ],
   "source": [
    "cleaned_test.head()"
   ]
  },
  {
   "cell_type": "code",
   "execution_count": null,
   "metadata": {
    "id": "1QH8MlqgFJOW"
   },
   "outputs": [],
   "source": [
    "cleaned_test['Age'].fillna(cleaned_test.Age.mean(), inplace = True)"
   ]
  },
  {
   "cell_type": "code",
   "execution_count": null,
   "metadata": {
    "id": "pzOb8c43FiLO"
   },
   "outputs": [],
   "source": [
    "cleaned_test['Fare'].fillna(cleaned_test.Fare.mean(), inplace = True)"
   ]
  },
  {
   "cell_type": "code",
   "execution_count": null,
   "metadata": {
    "colab": {
     "base_uri": "https://localhost:8080/"
    },
    "id": "KjniCTp5F3Fn",
    "outputId": "6754d48f-394f-4853-a57a-587fdb387b68"
   },
   "outputs": [
    {
     "name": "stdout",
     "output_type": "stream",
     "text": [
      "<class 'pandas.core.frame.DataFrame'>\n",
      "RangeIndex: 418 entries, 0 to 417\n",
      "Data columns (total 8 columns):\n",
      " #   Column       Non-Null Count  Dtype  \n",
      "---  ------       --------------  -----  \n",
      " 0   PassengerId  418 non-null    int64  \n",
      " 1   Pclass       418 non-null    int64  \n",
      " 2   Sex          418 non-null    object \n",
      " 3   Age          418 non-null    float64\n",
      " 4   SibSp        418 non-null    int64  \n",
      " 5   Parch        418 non-null    int64  \n",
      " 6   Fare         418 non-null    float64\n",
      " 7   Embarked     418 non-null    object \n",
      "dtypes: float64(2), int64(4), object(2)\n",
      "memory usage: 26.2+ KB\n"
     ]
    }
   ],
   "source": [
    "cleaned_test.info()"
   ]
  },
  {
   "cell_type": "code",
   "execution_count": null,
   "metadata": {
    "id": "yro2oFnoGPmy"
   },
   "outputs": [],
   "source": [
    "age_group = cleaned_test.Age.apply(get_age_group)\n",
    "cleaned_test.loc[:, 'Age_Group'] = age_group"
   ]
  },
  {
   "cell_type": "code",
   "execution_count": null,
   "metadata": {
    "id": "w8B3HHRKGble"
   },
   "outputs": [],
   "source": [
    "cleaned_test = pd.get_dummies(cleaned_test)"
   ]
  },
  {
   "cell_type": "code",
   "execution_count": null,
   "metadata": {
    "colab": {
     "base_uri": "https://localhost:8080/",
     "height": 222
    },
    "id": "tZUq-BWGGX6i",
    "outputId": "e3954ca9-b385-40e2-fec2-88d803e641c4"
   },
   "outputs": [
    {
     "data": {
      "text/html": [
       "<div>\n",
       "<style scoped>\n",
       "    .dataframe tbody tr th:only-of-type {\n",
       "        vertical-align: middle;\n",
       "    }\n",
       "\n",
       "    .dataframe tbody tr th {\n",
       "        vertical-align: top;\n",
       "    }\n",
       "\n",
       "    .dataframe thead th {\n",
       "        text-align: right;\n",
       "    }\n",
       "</style>\n",
       "<table border=\"1\" class=\"dataframe\">\n",
       "  <thead>\n",
       "    <tr style=\"text-align: right;\">\n",
       "      <th></th>\n",
       "      <th>PassengerId</th>\n",
       "      <th>Pclass</th>\n",
       "      <th>Age</th>\n",
       "      <th>SibSp</th>\n",
       "      <th>Parch</th>\n",
       "      <th>Fare</th>\n",
       "      <th>Sex_female</th>\n",
       "      <th>Sex_male</th>\n",
       "      <th>Embarked_C</th>\n",
       "      <th>Embarked_Q</th>\n",
       "      <th>Embarked_S</th>\n",
       "      <th>Age_Group_child</th>\n",
       "      <th>Age_Group_elder</th>\n",
       "      <th>Age_Group_middle_age</th>\n",
       "      <th>Age_Group_young_adult</th>\n",
       "    </tr>\n",
       "  </thead>\n",
       "  <tbody>\n",
       "    <tr>\n",
       "      <th>0</th>\n",
       "      <td>892</td>\n",
       "      <td>3</td>\n",
       "      <td>34.5</td>\n",
       "      <td>0</td>\n",
       "      <td>0</td>\n",
       "      <td>7.8292</td>\n",
       "      <td>0</td>\n",
       "      <td>1</td>\n",
       "      <td>0</td>\n",
       "      <td>1</td>\n",
       "      <td>0</td>\n",
       "      <td>0</td>\n",
       "      <td>0</td>\n",
       "      <td>1</td>\n",
       "      <td>0</td>\n",
       "    </tr>\n",
       "    <tr>\n",
       "      <th>1</th>\n",
       "      <td>893</td>\n",
       "      <td>3</td>\n",
       "      <td>47.0</td>\n",
       "      <td>1</td>\n",
       "      <td>0</td>\n",
       "      <td>7.0000</td>\n",
       "      <td>1</td>\n",
       "      <td>0</td>\n",
       "      <td>0</td>\n",
       "      <td>0</td>\n",
       "      <td>1</td>\n",
       "      <td>0</td>\n",
       "      <td>1</td>\n",
       "      <td>0</td>\n",
       "      <td>0</td>\n",
       "    </tr>\n",
       "    <tr>\n",
       "      <th>2</th>\n",
       "      <td>894</td>\n",
       "      <td>2</td>\n",
       "      <td>62.0</td>\n",
       "      <td>0</td>\n",
       "      <td>0</td>\n",
       "      <td>9.6875</td>\n",
       "      <td>0</td>\n",
       "      <td>1</td>\n",
       "      <td>0</td>\n",
       "      <td>1</td>\n",
       "      <td>0</td>\n",
       "      <td>0</td>\n",
       "      <td>1</td>\n",
       "      <td>0</td>\n",
       "      <td>0</td>\n",
       "    </tr>\n",
       "    <tr>\n",
       "      <th>3</th>\n",
       "      <td>895</td>\n",
       "      <td>3</td>\n",
       "      <td>27.0</td>\n",
       "      <td>0</td>\n",
       "      <td>0</td>\n",
       "      <td>8.6625</td>\n",
       "      <td>0</td>\n",
       "      <td>1</td>\n",
       "      <td>0</td>\n",
       "      <td>0</td>\n",
       "      <td>1</td>\n",
       "      <td>0</td>\n",
       "      <td>0</td>\n",
       "      <td>0</td>\n",
       "      <td>1</td>\n",
       "    </tr>\n",
       "    <tr>\n",
       "      <th>4</th>\n",
       "      <td>896</td>\n",
       "      <td>3</td>\n",
       "      <td>22.0</td>\n",
       "      <td>1</td>\n",
       "      <td>1</td>\n",
       "      <td>12.2875</td>\n",
       "      <td>1</td>\n",
       "      <td>0</td>\n",
       "      <td>0</td>\n",
       "      <td>0</td>\n",
       "      <td>1</td>\n",
       "      <td>0</td>\n",
       "      <td>0</td>\n",
       "      <td>0</td>\n",
       "      <td>1</td>\n",
       "    </tr>\n",
       "  </tbody>\n",
       "</table>\n",
       "</div>"
      ],
      "text/plain": [
       "   PassengerId  Pclass  ...  Age_Group_middle_age  Age_Group_young_adult\n",
       "0          892       3  ...                     1                      0\n",
       "1          893       3  ...                     0                      0\n",
       "2          894       2  ...                     0                      0\n",
       "3          895       3  ...                     0                      1\n",
       "4          896       3  ...                     0                      1\n",
       "\n",
       "[5 rows x 15 columns]"
      ]
     },
     "execution_count": 41,
     "metadata": {
      "tags": []
     },
     "output_type": "execute_result"
    }
   ],
   "source": [
    "cleaned_test.head()"
   ]
  },
  {
   "cell_type": "code",
   "execution_count": null,
   "metadata": {
    "colab": {
     "base_uri": "https://localhost:8080/",
     "height": 222
    },
    "id": "cNd75g8zGZ0u",
    "outputId": "d0cee4b4-549a-4d6e-c1e4-08bf5ae5554f"
   },
   "outputs": [
    {
     "data": {
      "text/html": [
       "<div>\n",
       "<style scoped>\n",
       "    .dataframe tbody tr th:only-of-type {\n",
       "        vertical-align: middle;\n",
       "    }\n",
       "\n",
       "    .dataframe tbody tr th {\n",
       "        vertical-align: top;\n",
       "    }\n",
       "\n",
       "    .dataframe thead th {\n",
       "        text-align: right;\n",
       "    }\n",
       "</style>\n",
       "<table border=\"1\" class=\"dataframe\">\n",
       "  <thead>\n",
       "    <tr style=\"text-align: right;\">\n",
       "      <th></th>\n",
       "      <th>PassengerId</th>\n",
       "      <th>Survived</th>\n",
       "      <th>Pclass</th>\n",
       "      <th>Age</th>\n",
       "      <th>SibSp</th>\n",
       "      <th>Parch</th>\n",
       "      <th>Fare</th>\n",
       "      <th>Sex_female</th>\n",
       "      <th>Sex_male</th>\n",
       "      <th>Embarked_C</th>\n",
       "      <th>Embarked_Q</th>\n",
       "      <th>Embarked_S</th>\n",
       "      <th>Age_Group_child</th>\n",
       "      <th>Age_Group_elder</th>\n",
       "      <th>Age_Group_middle_age</th>\n",
       "      <th>Age_Group_young_adult</th>\n",
       "    </tr>\n",
       "  </thead>\n",
       "  <tbody>\n",
       "    <tr>\n",
       "      <th>0</th>\n",
       "      <td>1</td>\n",
       "      <td>0</td>\n",
       "      <td>3</td>\n",
       "      <td>22.0</td>\n",
       "      <td>1</td>\n",
       "      <td>0</td>\n",
       "      <td>7.2500</td>\n",
       "      <td>0</td>\n",
       "      <td>1</td>\n",
       "      <td>0</td>\n",
       "      <td>0</td>\n",
       "      <td>1</td>\n",
       "      <td>0</td>\n",
       "      <td>0</td>\n",
       "      <td>0</td>\n",
       "      <td>1</td>\n",
       "    </tr>\n",
       "    <tr>\n",
       "      <th>1</th>\n",
       "      <td>2</td>\n",
       "      <td>1</td>\n",
       "      <td>1</td>\n",
       "      <td>38.0</td>\n",
       "      <td>1</td>\n",
       "      <td>0</td>\n",
       "      <td>71.2833</td>\n",
       "      <td>1</td>\n",
       "      <td>0</td>\n",
       "      <td>1</td>\n",
       "      <td>0</td>\n",
       "      <td>0</td>\n",
       "      <td>0</td>\n",
       "      <td>0</td>\n",
       "      <td>1</td>\n",
       "      <td>0</td>\n",
       "    </tr>\n",
       "    <tr>\n",
       "      <th>2</th>\n",
       "      <td>3</td>\n",
       "      <td>1</td>\n",
       "      <td>3</td>\n",
       "      <td>26.0</td>\n",
       "      <td>0</td>\n",
       "      <td>0</td>\n",
       "      <td>7.9250</td>\n",
       "      <td>1</td>\n",
       "      <td>0</td>\n",
       "      <td>0</td>\n",
       "      <td>0</td>\n",
       "      <td>1</td>\n",
       "      <td>0</td>\n",
       "      <td>0</td>\n",
       "      <td>0</td>\n",
       "      <td>1</td>\n",
       "    </tr>\n",
       "    <tr>\n",
       "      <th>3</th>\n",
       "      <td>4</td>\n",
       "      <td>1</td>\n",
       "      <td>1</td>\n",
       "      <td>35.0</td>\n",
       "      <td>1</td>\n",
       "      <td>0</td>\n",
       "      <td>53.1000</td>\n",
       "      <td>1</td>\n",
       "      <td>0</td>\n",
       "      <td>0</td>\n",
       "      <td>0</td>\n",
       "      <td>1</td>\n",
       "      <td>0</td>\n",
       "      <td>0</td>\n",
       "      <td>1</td>\n",
       "      <td>0</td>\n",
       "    </tr>\n",
       "    <tr>\n",
       "      <th>4</th>\n",
       "      <td>5</td>\n",
       "      <td>0</td>\n",
       "      <td>3</td>\n",
       "      <td>35.0</td>\n",
       "      <td>0</td>\n",
       "      <td>0</td>\n",
       "      <td>8.0500</td>\n",
       "      <td>0</td>\n",
       "      <td>1</td>\n",
       "      <td>0</td>\n",
       "      <td>0</td>\n",
       "      <td>1</td>\n",
       "      <td>0</td>\n",
       "      <td>0</td>\n",
       "      <td>1</td>\n",
       "      <td>0</td>\n",
       "    </tr>\n",
       "  </tbody>\n",
       "</table>\n",
       "</div>"
      ],
      "text/plain": [
       "   PassengerId  Survived  ...  Age_Group_middle_age  Age_Group_young_adult\n",
       "0            1         0  ...                     0                      1\n",
       "1            2         1  ...                     1                      0\n",
       "2            3         1  ...                     0                      1\n",
       "3            4         1  ...                     1                      0\n",
       "4            5         0  ...                     1                      0\n",
       "\n",
       "[5 rows x 16 columns]"
      ]
     },
     "execution_count": 42,
     "metadata": {
      "tags": []
     },
     "output_type": "execute_result"
    }
   ],
   "source": [
    "cleaned_data.head()"
   ]
  },
  {
   "cell_type": "code",
   "execution_count": null,
   "metadata": {
    "id": "qWW0_90JHar6"
   },
   "outputs": [],
   "source": []
  },
  {
   "cell_type": "markdown",
   "metadata": {
    "id": "S-S4TVgZ-e3x"
   },
   "source": [
    "## Segunda Tarefa: Modelo de Classificação"
   ]
  },
  {
   "cell_type": "markdown",
   "metadata": {
    "id": "CS6LTzPpUbb3"
   },
   "source": [
    "### Estimando o desempenho dos Classificadores\n",
    "\n",
    "Considerando o conjunto de dados de treinamento do desafio \"Titanic: Machine Learning from Disaster\" do Kaggle (https://www.kaggle.com/c/titanic) e usando Jupyter Notebook ou Google Colab, faça: \n",
    "\n",
    "\n",
    "1. Usando as SVM, obtenha um classificador e estimene o seu desempenho usando validação cruzada com 10 folds. Para cada conjunto de treinamento, use a técnica de Grid Search para encontrar os melhores valores de parâmetros com o Kernel RBF. Como resultado final, apresente a média e o desvio padrão das acurácias.\n",
    "\n",
    "\n",
    "2. Escolha uma outra técnica de indução de classificadores e faça a mesma avaliação do item anterior."
   ]
  },
  {
   "cell_type": "markdown",
   "metadata": {
    "id": "2Q17vmZoU6X-"
   },
   "source": [
    "#### Divisão de treino e Validação"
   ]
  },
  {
   "cell_type": "code",
   "execution_count": null,
   "metadata": {
    "id": "1J_swOBpdcOj"
   },
   "outputs": [],
   "source": [
    "# Modelos de classificação\n",
    "from sklearn.model_selection import train_test_split\n",
    "from sklearn.model_selection import StratifiedKFold\n",
    "from sklearn import decomposition\n",
    "\n",
    "# SVM\n",
    "from sklearn.svm import SVC\n",
    "\n",
    "# DecisionTree\n",
    "from sklearn import tree\n",
    "from sklearn.tree import DecisionTreeClassifier\n",
    "\n",
    "#GridSearch\n",
    "from sklearn.model_selection import GridSearchCV"
   ]
  },
  {
   "cell_type": "code",
   "execution_count": null,
   "metadata": {
    "id": "okiwt-G7Ugn4"
   },
   "outputs": [],
   "source": [
    "df_train = cleaned_data.copy()"
   ]
  },
  {
   "cell_type": "code",
   "execution_count": null,
   "metadata": {
    "colab": {
     "base_uri": "https://localhost:8080/",
     "height": 222
    },
    "id": "7xnK5YaSU46t",
    "outputId": "13b586b3-da56-4c2f-a127-1ea4c23db1b7"
   },
   "outputs": [
    {
     "data": {
      "text/html": [
       "<div>\n",
       "<style scoped>\n",
       "    .dataframe tbody tr th:only-of-type {\n",
       "        vertical-align: middle;\n",
       "    }\n",
       "\n",
       "    .dataframe tbody tr th {\n",
       "        vertical-align: top;\n",
       "    }\n",
       "\n",
       "    .dataframe thead th {\n",
       "        text-align: right;\n",
       "    }\n",
       "</style>\n",
       "<table border=\"1\" class=\"dataframe\">\n",
       "  <thead>\n",
       "    <tr style=\"text-align: right;\">\n",
       "      <th></th>\n",
       "      <th>PassengerId</th>\n",
       "      <th>Survived</th>\n",
       "      <th>Pclass</th>\n",
       "      <th>Age</th>\n",
       "      <th>SibSp</th>\n",
       "      <th>Parch</th>\n",
       "      <th>Fare</th>\n",
       "      <th>Sex_female</th>\n",
       "      <th>Sex_male</th>\n",
       "      <th>Embarked_C</th>\n",
       "      <th>Embarked_Q</th>\n",
       "      <th>Embarked_S</th>\n",
       "      <th>Age_Group_child</th>\n",
       "      <th>Age_Group_elder</th>\n",
       "      <th>Age_Group_middle_age</th>\n",
       "      <th>Age_Group_young_adult</th>\n",
       "    </tr>\n",
       "  </thead>\n",
       "  <tbody>\n",
       "    <tr>\n",
       "      <th>0</th>\n",
       "      <td>1</td>\n",
       "      <td>0</td>\n",
       "      <td>3</td>\n",
       "      <td>22.0</td>\n",
       "      <td>1</td>\n",
       "      <td>0</td>\n",
       "      <td>7.2500</td>\n",
       "      <td>0</td>\n",
       "      <td>1</td>\n",
       "      <td>0</td>\n",
       "      <td>0</td>\n",
       "      <td>1</td>\n",
       "      <td>0</td>\n",
       "      <td>0</td>\n",
       "      <td>0</td>\n",
       "      <td>1</td>\n",
       "    </tr>\n",
       "    <tr>\n",
       "      <th>1</th>\n",
       "      <td>2</td>\n",
       "      <td>1</td>\n",
       "      <td>1</td>\n",
       "      <td>38.0</td>\n",
       "      <td>1</td>\n",
       "      <td>0</td>\n",
       "      <td>71.2833</td>\n",
       "      <td>1</td>\n",
       "      <td>0</td>\n",
       "      <td>1</td>\n",
       "      <td>0</td>\n",
       "      <td>0</td>\n",
       "      <td>0</td>\n",
       "      <td>0</td>\n",
       "      <td>1</td>\n",
       "      <td>0</td>\n",
       "    </tr>\n",
       "    <tr>\n",
       "      <th>2</th>\n",
       "      <td>3</td>\n",
       "      <td>1</td>\n",
       "      <td>3</td>\n",
       "      <td>26.0</td>\n",
       "      <td>0</td>\n",
       "      <td>0</td>\n",
       "      <td>7.9250</td>\n",
       "      <td>1</td>\n",
       "      <td>0</td>\n",
       "      <td>0</td>\n",
       "      <td>0</td>\n",
       "      <td>1</td>\n",
       "      <td>0</td>\n",
       "      <td>0</td>\n",
       "      <td>0</td>\n",
       "      <td>1</td>\n",
       "    </tr>\n",
       "    <tr>\n",
       "      <th>3</th>\n",
       "      <td>4</td>\n",
       "      <td>1</td>\n",
       "      <td>1</td>\n",
       "      <td>35.0</td>\n",
       "      <td>1</td>\n",
       "      <td>0</td>\n",
       "      <td>53.1000</td>\n",
       "      <td>1</td>\n",
       "      <td>0</td>\n",
       "      <td>0</td>\n",
       "      <td>0</td>\n",
       "      <td>1</td>\n",
       "      <td>0</td>\n",
       "      <td>0</td>\n",
       "      <td>1</td>\n",
       "      <td>0</td>\n",
       "    </tr>\n",
       "    <tr>\n",
       "      <th>4</th>\n",
       "      <td>5</td>\n",
       "      <td>0</td>\n",
       "      <td>3</td>\n",
       "      <td>35.0</td>\n",
       "      <td>0</td>\n",
       "      <td>0</td>\n",
       "      <td>8.0500</td>\n",
       "      <td>0</td>\n",
       "      <td>1</td>\n",
       "      <td>0</td>\n",
       "      <td>0</td>\n",
       "      <td>1</td>\n",
       "      <td>0</td>\n",
       "      <td>0</td>\n",
       "      <td>1</td>\n",
       "      <td>0</td>\n",
       "    </tr>\n",
       "  </tbody>\n",
       "</table>\n",
       "</div>"
      ],
      "text/plain": [
       "   PassengerId  Survived  ...  Age_Group_middle_age  Age_Group_young_adult\n",
       "0            1         0  ...                     0                      1\n",
       "1            2         1  ...                     1                      0\n",
       "2            3         1  ...                     0                      1\n",
       "3            4         1  ...                     1                      0\n",
       "4            5         0  ...                     1                      0\n",
       "\n",
       "[5 rows x 16 columns]"
      ]
     },
     "execution_count": 45,
     "metadata": {
      "tags": []
     },
     "output_type": "execute_result"
    }
   ],
   "source": [
    "df_train.head()"
   ]
  },
  {
   "cell_type": "code",
   "execution_count": null,
   "metadata": {
    "colab": {
     "base_uri": "https://localhost:8080/"
    },
    "id": "5dqZWlw5Wkdx",
    "outputId": "bd74387d-00a2-42a4-def0-8b8cd7fdb8da"
   },
   "outputs": [
    {
     "name": "stdout",
     "output_type": "stream",
     "text": [
      "Features:  ['PassengerId', 'Pclass', 'Age', 'SibSp', 'Parch', 'Fare', 'Sex_female', 'Sex_male', 'Embarked_C', 'Embarked_Q', 'Embarked_S', 'Age_Group_child', 'Age_Group_elder', 'Age_Group_middle_age', 'Age_Group_young_adult']\n",
      "Target:  Survived\n"
     ]
    }
   ],
   "source": [
    "# Separando as features e targets\n",
    "target = 'Survived'\n",
    "features = list(df_train.columns)\n",
    "features.remove(target)\n",
    "\n",
    "print('Features: ', features) # O que vamos usar para prever\n",
    "print('Target: ', target) # O que será previsto"
   ]
  },
  {
   "cell_type": "code",
   "execution_count": null,
   "metadata": {
    "colab": {
     "base_uri": "https://localhost:8080/"
    },
    "id": "HTOeJ4n9YgsF",
    "outputId": "b9755a49-d942-4713-e0d4-ac11826d290e"
   },
   "outputs": [
    {
     "name": "stdout",
     "output_type": "stream",
     "text": [
      "(623, 15)\n",
      "(268, 15)\n",
      "(623,)\n",
      "(268,)\n"
     ]
    }
   ],
   "source": [
    "# 30% dos dados para validação\n",
    "X_train, X_val, y_train, y_val = train_test_split(df_train[features], df_train[target], test_size=0.3, random_state=42)\n",
    "\n",
    "print(X_train.shape)\n",
    "print(X_val.shape)\n",
    "print(y_train.shape)\n",
    "print(y_val.shape)"
   ]
  },
  {
   "cell_type": "markdown",
   "metadata": {
    "id": "U0mtONW_2LZR"
   },
   "source": [
    "#### Validação cruzada SVM\n"
   ]
  },
  {
   "cell_type": "code",
   "execution_count": null,
   "metadata": {
    "colab": {
     "base_uri": "https://localhost:8080/"
    },
    "id": "5btIMv2GSCGj",
    "outputId": "3b8fa21c-3c29-4587-adab-6aab58fba517"
   },
   "outputs": [
    {
     "name": "stdout",
     "output_type": "stream",
     "text": [
      "Fold 1\n",
      "Melhor C: 1\n",
      "Melhor gamma: 0.0001\n",
      "Média: 67.32% Desvio Padrão: 0.04\n",
      "\n",
      " ____________________________ \n",
      "\n",
      "Fold 2\n",
      "Melhor C: 20\n",
      "Melhor gamma: 1e-05\n",
      "Média: 66.43% Desvio Padrão: 0.05\n",
      "\n",
      " ____________________________ \n",
      "\n",
      "Fold 3\n",
      "Melhor C: 1\n",
      "Melhor gamma: 3e-05\n",
      "Média: 67.14% Desvio Padrão: 0.04\n",
      "\n",
      " ____________________________ \n",
      "\n",
      "Fold 4\n",
      "Melhor C: 10\n",
      "Melhor gamma: 0.0003\n",
      "Média: 66.67% Desvio Padrão: 0.06\n",
      "\n",
      " ____________________________ \n",
      "\n",
      "Fold 5\n",
      "Melhor C: 20\n",
      "Melhor gamma: 1e-05\n",
      "Média: 68.63% Desvio Padrão: 0.04\n",
      "\n",
      " ____________________________ \n",
      "\n",
      "Fold 6\n",
      "Melhor C: 20\n",
      "Melhor gamma: 1e-05\n",
      "Média: 67.91% Desvio Padrão: 0.05\n",
      "\n",
      " ____________________________ \n",
      "\n",
      "Fold 7\n",
      "Melhor C: 20\n",
      "Melhor gamma: 3e-05\n",
      "Média: 67.91% Desvio Padrão: 0.04\n",
      "\n",
      " ____________________________ \n",
      "\n",
      "Fold 8\n",
      "Melhor C: 1\n",
      "Melhor gamma: 3e-05\n",
      "Média: 68.09% Desvio Padrão: 0.03\n",
      "\n",
      " ____________________________ \n",
      "\n",
      "Fold 9\n",
      "Melhor C: 10\n",
      "Melhor gamma: 3e-05\n",
      "Média: 67.2% Desvio Padrão: 0.04\n",
      "\n",
      " ____________________________ \n",
      "\n",
      "Fold 10\n",
      "Melhor C: 20\n",
      "Melhor gamma: 3e-05\n",
      "Média: 67.73% Desvio Padrão: 0.03\n",
      "\n",
      " ____________________________ \n",
      "\n",
      "Média geral: 67.5%\n",
      "Std geral:  0.006410197798487159\n"
     ]
    }
   ],
   "source": [
    "# criando 10 folds\n",
    "kfold = StratifiedKFold(n_splits=10).split(X_train, y_train)\n",
    "score = []\n",
    "\n",
    "tuned_parameters = [{'kernel': ['rbf'], 'gamma': [1e-4, 3e-4, 6e-4, 1e-5, 3e-5], 'C': [1, 10, 20]}]\n",
    "\n",
    "# cria o modelo 10x com parametros diferentes para encontrar o melhor conjunto \n",
    "clf = GridSearchCV(SVC(), tuned_parameters, scoring=\"accuracy\", cv=10)\n",
    "\n",
    "for k, (train, test) in enumerate(kfold):\n",
    "  clf.fit(X_train.iloc[train], y_train.iloc[train])\n",
    "  clf.score(X_train.iloc[test], y_train.iloc[test])\n",
    "\n",
    "  mean = clf.cv_results_['mean_test_score'][clf.best_index_]\n",
    "  std = clf.cv_results_['std_test_score'][clf.best_index_]\n",
    "  score.append(mean)\n",
    "  print('Fold', k+1)\n",
    "  print('Melhor C:', clf.best_estimator_.get_params()['C'])\n",
    "  print('Melhor gamma:', clf.best_estimator_.get_params()['gamma'])\n",
    "  print(f'Média: {(mean*100).round(2)}% Desvio Padrão: {(std.round(2))}')\n",
    "  print('\\n ____________________________ \\n')\n",
    "\n",
    "geral_mean = np.mean(score, axis=0)\n",
    "print(f'Média geral: {(geral_mean*100).round(2)}%')\n",
    "print('Std geral: ', np.std(score, axis=0))\n"
   ]
  },
  {
   "cell_type": "markdown",
   "metadata": {
    "id": "FAy0CUQ-izk8"
   },
   "source": [
    "#### Validação cuzada Arvore de Decisão"
   ]
  },
  {
   "cell_type": "code",
   "execution_count": null,
   "metadata": {
    "colab": {
     "base_uri": "https://localhost:8080/"
    },
    "id": "T8JSXHF-Yv4a",
    "outputId": "b3ee5a94-49e2-4b42-917b-e76402a29fe2"
   },
   "outputs": [
    {
     "name": "stdout",
     "output_type": "stream",
     "text": [
      "Fold 1\n",
      "Melhor max_depth: None\n",
      "Melhor max_leaf_nodes: 6\n",
      "Média: 82.86% Desvio Padrão: 0.06\n",
      "\n",
      " ____________________________ \n",
      "\n",
      "Fold 2\n",
      "Melhor max_depth: None\n",
      "Melhor max_leaf_nodes: 6\n",
      "Média: 80.54% Desvio Padrão: 0.06\n",
      "\n",
      " ____________________________ \n",
      "\n",
      "Fold 3\n",
      "Melhor max_depth: None\n",
      "Melhor max_leaf_nodes: 6\n",
      "Média: 79.82% Desvio Padrão: 0.06\n",
      "\n",
      " ____________________________ \n",
      "\n",
      "Fold 4\n",
      "Melhor max_depth: None\n",
      "Melhor max_leaf_nodes: 6\n",
      "Média: 81.12% Desvio Padrão: 0.07\n",
      "\n",
      " ____________________________ \n",
      "\n",
      "Fold 5\n",
      "Melhor max_depth: None\n",
      "Melhor max_leaf_nodes: 9\n",
      "Média: 83.43% Desvio Padrão: 0.06\n",
      "\n",
      " ____________________________ \n",
      "\n",
      "Fold 6\n",
      "Melhor max_depth: 10\n",
      "Melhor max_leaf_nodes: 9\n",
      "Média: 80.93% Desvio Padrão: 0.06\n",
      "\n",
      " ____________________________ \n",
      "\n",
      "Fold 7\n",
      "Melhor max_depth: None\n",
      "Melhor max_leaf_nodes: 6\n",
      "Média: 81.65% Desvio Padrão: 0.08\n",
      "\n",
      " ____________________________ \n",
      "\n",
      "Fold 8\n",
      "Melhor max_depth: None\n",
      "Melhor max_leaf_nodes: 6\n",
      "Média: 82.9% Desvio Padrão: 0.06\n",
      "\n",
      " ____________________________ \n",
      "\n",
      "Fold 9\n",
      "Melhor max_depth: None\n",
      "Melhor max_leaf_nodes: 6\n",
      "Média: 81.65% Desvio Padrão: 0.07\n",
      "\n",
      " ____________________________ \n",
      "\n",
      "Fold 10\n",
      "Melhor max_depth: None\n",
      "Melhor max_leaf_nodes: 6\n",
      "Média: 80.76% Desvio Padrão: 0.07\n",
      "\n",
      " ____________________________ \n",
      "\n",
      "Média geral: 81.57%\n",
      "Std geral:  0.011084002402760012\n"
     ]
    }
   ],
   "source": [
    "kfold = StratifiedKFold(n_splits=10).split(X_train, y_train)\n",
    "score = []\n",
    "tuned_parameters = [{'max_depth': [None, 5, 10, 15, 20, 25, 30, 35], 'max_leaf_nodes': [None, 3, 6, 9]}]\n",
    "                     \n",
    "clf = GridSearchCV(DecisionTreeClassifier(), tuned_parameters, scoring=\"accuracy\", cv=10)\n",
    "\n",
    "for k, (train, test) in enumerate(kfold):\n",
    "  clf.fit(X_train.iloc[train], y_train.iloc[train])\n",
    "  clf.score(X_train.iloc[test], y_train.iloc[test])\n",
    "  \n",
    "  mean = clf.cv_results_['mean_test_score'][clf.best_index_]\n",
    "  std = clf.cv_results_['std_test_score'][clf.best_index_]\n",
    "  print('Fold', k+1)\n",
    "  print('Melhor max_depth:', clf.best_estimator_.get_params()['max_depth'])\n",
    "  print('Melhor max_leaf_nodes:', clf.best_estimator_.get_params()['max_leaf_nodes'])\n",
    "  print(f'Média: {(mean*100).round(2)}% Desvio Padrão: {(std.round(2))}')\n",
    "  print('\\n ____________________________ \\n')\n",
    "\n",
    "  score.append(mean)\n",
    "\n",
    "geral_mean = np.mean(score, axis=0)\n",
    "\n",
    "print(f'Média geral: {(geral_mean*100).round(2)}%')\n",
    "print('Std geral: ', np.std(score, axis=0))"
   ]
  }
 ],
 "metadata": {
  "colab": {
   "collapsed_sections": [
    "lMXClViRS8DH"
   ],
   "name": "Tarefa2_titanic.ipynb",
   "provenance": [],
   "toc_visible": true
  },
  "kernelspec": {
   "display_name": "Python 3",
   "language": "python",
   "name": "python3"
  },
  "language_info": {
   "codemirror_mode": {
    "name": "ipython",
    "version": 3
   },
   "file_extension": ".py",
   "mimetype": "text/x-python",
   "name": "python",
   "nbconvert_exporter": "python",
   "pygments_lexer": "ipython3",
   "version": "3.8.5"
  }
 },
 "nbformat": 4,
 "nbformat_minor": 1
}
